{
 "cells": [
  {
   "cell_type": "code",
   "execution_count": 1,
   "metadata": {
    "collapsed": true
   },
   "outputs": [],
   "source": [
    "import pandas as pd\n",
    "import numpy as np\n",
    "import matplotlib.pyplot as plt"
   ]
  },
  {
   "cell_type": "code",
   "execution_count": 2,
   "outputs": [],
   "source": [
    "PERSON = 1\n",
    "data = pd.read_csv('../data/train.csv', sep=',')"
   ],
   "metadata": {
    "collapsed": false,
    "pycharm": {
     "name": "#%%\n"
    }
   }
  },
  {
   "cell_type": "code",
   "execution_count": 3,
   "outputs": [],
   "source": [
    "\n",
    "mean = data.loc[data['id'] == PERSON, 'x'].mean()"
   ],
   "metadata": {
    "collapsed": false,
    "pycharm": {
     "name": "#%%\n"
    }
   }
  },
  {
   "cell_type": "code",
   "execution_count": 4,
   "outputs": [],
   "source": [
    "data = data[data.id == PERSON]"
   ],
   "metadata": {
    "collapsed": false,
    "pycharm": {
     "name": "#%%\n"
    }
   }
  },
  {
   "cell_type": "code",
   "execution_count": 5,
   "outputs": [
    {
     "data": {
      "text/plain": "      id     time    x  y\n0      1        0  800  0\n1      1      780  780  0\n2      1     1572  792  0\n3      1     2392  820  0\n4      1     3196  804  0\n...   ..      ...  ... ..\n1865   1  1395312  640  0\n1866   1  1395684  372  0\n1867   1  1395756   72  0\n1868   1  1396596  840  0\n1869   1  1397264  668  0\n\n[1870 rows x 4 columns]",
      "text/html": "<div>\n<style scoped>\n    .dataframe tbody tr th:only-of-type {\n        vertical-align: middle;\n    }\n\n    .dataframe tbody tr th {\n        vertical-align: top;\n    }\n\n    .dataframe thead th {\n        text-align: right;\n    }\n</style>\n<table border=\"1\" class=\"dataframe\">\n  <thead>\n    <tr style=\"text-align: right;\">\n      <th></th>\n      <th>id</th>\n      <th>time</th>\n      <th>x</th>\n      <th>y</th>\n    </tr>\n  </thead>\n  <tbody>\n    <tr>\n      <th>0</th>\n      <td>1</td>\n      <td>0</td>\n      <td>800</td>\n      <td>0</td>\n    </tr>\n    <tr>\n      <th>1</th>\n      <td>1</td>\n      <td>780</td>\n      <td>780</td>\n      <td>0</td>\n    </tr>\n    <tr>\n      <th>2</th>\n      <td>1</td>\n      <td>1572</td>\n      <td>792</td>\n      <td>0</td>\n    </tr>\n    <tr>\n      <th>3</th>\n      <td>1</td>\n      <td>2392</td>\n      <td>820</td>\n      <td>0</td>\n    </tr>\n    <tr>\n      <th>4</th>\n      <td>1</td>\n      <td>3196</td>\n      <td>804</td>\n      <td>0</td>\n    </tr>\n    <tr>\n      <th>...</th>\n      <td>...</td>\n      <td>...</td>\n      <td>...</td>\n      <td>...</td>\n    </tr>\n    <tr>\n      <th>1865</th>\n      <td>1</td>\n      <td>1395312</td>\n      <td>640</td>\n      <td>0</td>\n    </tr>\n    <tr>\n      <th>1866</th>\n      <td>1</td>\n      <td>1395684</td>\n      <td>372</td>\n      <td>0</td>\n    </tr>\n    <tr>\n      <th>1867</th>\n      <td>1</td>\n      <td>1395756</td>\n      <td>72</td>\n      <td>0</td>\n    </tr>\n    <tr>\n      <th>1868</th>\n      <td>1</td>\n      <td>1396596</td>\n      <td>840</td>\n      <td>0</td>\n    </tr>\n    <tr>\n      <th>1869</th>\n      <td>1</td>\n      <td>1397264</td>\n      <td>668</td>\n      <td>0</td>\n    </tr>\n  </tbody>\n</table>\n<p>1870 rows × 4 columns</p>\n</div>"
     },
     "execution_count": 5,
     "metadata": {},
     "output_type": "execute_result"
    }
   ],
   "source": [
    "data"
   ],
   "metadata": {
    "collapsed": false,
    "pycharm": {
     "name": "#%%\n"
    }
   }
  },
  {
   "cell_type": "code",
   "execution_count": 6,
   "outputs": [],
   "source": [
    "def normalize(data: pd.DataFrame):\n",
    "\n",
    "    data[['x', 'time']] = data[['x', 'time']].apply(lambda col: (col - col.min()) / (col.max() - col.min()), axis=0)\n",
    "    return data"
   ],
   "metadata": {
    "collapsed": false,
    "pycharm": {
     "name": "#%%\n"
    }
   }
  },
  {
   "cell_type": "code",
   "execution_count": 7,
   "outputs": [],
   "source": [
    "#normalize(data)"
   ],
   "metadata": {
    "collapsed": false,
    "pycharm": {
     "name": "#%%\n"
    }
   }
  },
  {
   "cell_type": "code",
   "execution_count": 8,
   "outputs": [],
   "source": [
    "from sklearn.neighbors import LocalOutlierFactor\n",
    "def remove_noises(noise_data):\n",
    "    lof = LocalOutlierFactor(n_neighbors=15, novelty=True)\n",
    "    lof.fit(noise_data[['x']].to_numpy())\n",
    "    outlier_predicted = lof.predict(noise_data[['x']].to_numpy())\n",
    "    clear_data = noise_data[outlier_predicted == 1].copy()\n",
    "\n",
    "    return clear_data"
   ],
   "metadata": {
    "collapsed": false,
    "pycharm": {
     "name": "#%%\n"
    }
   }
  },
  {
   "cell_type": "code",
   "execution_count": 9,
   "outputs": [],
   "source": [
    "data = remove_noises(data)"
   ],
   "metadata": {
    "collapsed": false,
    "pycharm": {
     "name": "#%%\n"
    }
   }
  },
  {
   "cell_type": "code",
   "execution_count": 10,
   "outputs": [
    {
     "name": "stdout",
     "output_type": "stream",
     "text": [
      "Main: 803.4466165413534\n",
      "Main: 925.1393939393939\n",
      "Main: 890.144\n",
      "Main: 728.6779661016949\n",
      "Next: 752.0\n",
      "Next: 800.0\n",
      "Next: 825.0\n",
      "Main: 721.1090909090909\n",
      "Main: 770.9853658536585\n",
      "Main: 692.0967032967034\n",
      "Main: 678.8327868852458\n",
      "Next: 675.1142857142858\n",
      "Main: 733.5333333333333\n",
      "Main: 709.4153846153846\n",
      "Main: 712.8484848484849\n",
      "Next: 726.0315789473684\n",
      "Main: 759.4212765957448\n",
      "Main: 746.6341463414634\n",
      "Main: 695.6190476190476\n",
      "Main: 697.7127516778523\n"
     ]
    }
   ],
   "source": [
    "from main_features.rr_features import StatFeatures\n",
    "from math import ceil\n",
    "\n",
    "\n",
    "INTERVALS = 20\n",
    "\n",
    "person_data = data.copy()\n",
    "\n",
    "min_tresh = person_data.time.min()\n",
    "max_tresh = person_data.time.max()\n",
    "\n",
    "dur_interval = ceil((max_tresh - min_tresh) / INTERVALS)\n",
    "\n",
    "statistic = list()\n",
    "anomalies = list()\n",
    "\n",
    "for interval in range(INTERVALS):\n",
    "    bot_tresh = interval * dur_interval\n",
    "    top_tresh = (interval + 1) * dur_interval\n",
    "    interval_data = person_data.loc[(person_data.time > bot_tresh) & (person_data.time < top_tresh), 'x']\n",
    "    if len(interval_data) == 0:\n",
    "        continue\n",
    "\n",
    "    stat_info = StatFeatures(interval_data, 5)\n",
    "    statistic.append(stat_info.get_statistic())\n",
    "\n",
    "    if 1 in person_data.loc[(person_data.time > bot_tresh) & (person_data.time < top_tresh), 'y'].values:\n",
    "        anomalies.append(1)\n",
    "    else:\n",
    "        anomalies.append(0)\n"
   ],
   "metadata": {
    "collapsed": false,
    "pycharm": {
     "name": "#%%\n"
    }
   }
  },
  {
   "cell_type": "code",
   "execution_count": 11,
   "outputs": [
    {
     "data": {
      "text/plain": "           AM0        mode         std        mean        var     p_NN50  \\\n0    37.995873  803.446617  184.206909  703.652174  26.178688  40.659341   \n1    29.756144  925.139394  181.356867  817.766234  22.177104  27.631579   \n2    15.836346  890.144000  286.436091  786.769231  36.406621  48.051948   \n3   127.243837  728.677966   44.437870  759.252747   5.852843  12.222222   \n4    75.948388  752.000000   84.215584  775.777778  10.855632   5.617978   \n5    69.083674  800.000000  123.862986  803.903614  15.407691  14.634146   \n6    61.793785  825.000000  137.790145  831.550000  16.570278  11.392405   \n7   194.114324  721.109091   34.622889  746.553191   4.637699   0.000000   \n8   155.579470  770.985366   32.929721  777.644444   4.234547   8.988764   \n9   166.756945  692.096703   37.408672  714.708333   5.234117   5.263158   \n10  182.316439  678.832787   28.071930  696.871287   4.028281   3.000000   \n11  167.543903  675.114286   54.155941  698.000000   7.758731  10.309278   \n12  105.547456  733.533333   51.142894  766.065934   6.676043  12.222222   \n13  165.951478  709.415385   34.836081  734.147368   4.745107   9.574468   \n14  194.296766  712.848485   35.022540  727.621053   4.813294  12.765957   \n15   87.749659  726.031579   77.892052  714.927835  10.895093  10.416667   \n16   86.570314  759.421277   55.301355  750.956522   7.364122  13.186813   \n17  121.875177  746.634146   50.830094  762.896552   6.662777   8.139535   \n18   98.359947  695.619048   44.685769  735.326316   6.076998  18.085106   \n19   43.435289  697.712752  191.918404  664.084211  28.899709  36.170213   \n\n         rmssd  anomaly  \n0   229.237820        0  \n1   258.404008        0  \n2   390.931488        0  \n3    33.506218        1  \n4   117.244774        1  \n5   174.677962        0  \n6   163.986415        0  \n7    17.670825        0  \n8    26.856255        1  \n9    28.882338        0  \n10   23.030415        0  \n11   33.685018        0  \n12   42.639575        0  \n13   28.808982        0  \n14   31.930776        1  \n15  103.026696        0  \n16   37.417749        0  \n17   32.815198        0  \n18   38.543703        0  \n19  223.982142        0  ",
      "text/html": "<div>\n<style scoped>\n    .dataframe tbody tr th:only-of-type {\n        vertical-align: middle;\n    }\n\n    .dataframe tbody tr th {\n        vertical-align: top;\n    }\n\n    .dataframe thead th {\n        text-align: right;\n    }\n</style>\n<table border=\"1\" class=\"dataframe\">\n  <thead>\n    <tr style=\"text-align: right;\">\n      <th></th>\n      <th>AM0</th>\n      <th>mode</th>\n      <th>std</th>\n      <th>mean</th>\n      <th>var</th>\n      <th>p_NN50</th>\n      <th>rmssd</th>\n      <th>anomaly</th>\n    </tr>\n  </thead>\n  <tbody>\n    <tr>\n      <th>0</th>\n      <td>37.995873</td>\n      <td>803.446617</td>\n      <td>184.206909</td>\n      <td>703.652174</td>\n      <td>26.178688</td>\n      <td>40.659341</td>\n      <td>229.237820</td>\n      <td>0</td>\n    </tr>\n    <tr>\n      <th>1</th>\n      <td>29.756144</td>\n      <td>925.139394</td>\n      <td>181.356867</td>\n      <td>817.766234</td>\n      <td>22.177104</td>\n      <td>27.631579</td>\n      <td>258.404008</td>\n      <td>0</td>\n    </tr>\n    <tr>\n      <th>2</th>\n      <td>15.836346</td>\n      <td>890.144000</td>\n      <td>286.436091</td>\n      <td>786.769231</td>\n      <td>36.406621</td>\n      <td>48.051948</td>\n      <td>390.931488</td>\n      <td>0</td>\n    </tr>\n    <tr>\n      <th>3</th>\n      <td>127.243837</td>\n      <td>728.677966</td>\n      <td>44.437870</td>\n      <td>759.252747</td>\n      <td>5.852843</td>\n      <td>12.222222</td>\n      <td>33.506218</td>\n      <td>1</td>\n    </tr>\n    <tr>\n      <th>4</th>\n      <td>75.948388</td>\n      <td>752.000000</td>\n      <td>84.215584</td>\n      <td>775.777778</td>\n      <td>10.855632</td>\n      <td>5.617978</td>\n      <td>117.244774</td>\n      <td>1</td>\n    </tr>\n    <tr>\n      <th>5</th>\n      <td>69.083674</td>\n      <td>800.000000</td>\n      <td>123.862986</td>\n      <td>803.903614</td>\n      <td>15.407691</td>\n      <td>14.634146</td>\n      <td>174.677962</td>\n      <td>0</td>\n    </tr>\n    <tr>\n      <th>6</th>\n      <td>61.793785</td>\n      <td>825.000000</td>\n      <td>137.790145</td>\n      <td>831.550000</td>\n      <td>16.570278</td>\n      <td>11.392405</td>\n      <td>163.986415</td>\n      <td>0</td>\n    </tr>\n    <tr>\n      <th>7</th>\n      <td>194.114324</td>\n      <td>721.109091</td>\n      <td>34.622889</td>\n      <td>746.553191</td>\n      <td>4.637699</td>\n      <td>0.000000</td>\n      <td>17.670825</td>\n      <td>0</td>\n    </tr>\n    <tr>\n      <th>8</th>\n      <td>155.579470</td>\n      <td>770.985366</td>\n      <td>32.929721</td>\n      <td>777.644444</td>\n      <td>4.234547</td>\n      <td>8.988764</td>\n      <td>26.856255</td>\n      <td>1</td>\n    </tr>\n    <tr>\n      <th>9</th>\n      <td>166.756945</td>\n      <td>692.096703</td>\n      <td>37.408672</td>\n      <td>714.708333</td>\n      <td>5.234117</td>\n      <td>5.263158</td>\n      <td>28.882338</td>\n      <td>0</td>\n    </tr>\n    <tr>\n      <th>10</th>\n      <td>182.316439</td>\n      <td>678.832787</td>\n      <td>28.071930</td>\n      <td>696.871287</td>\n      <td>4.028281</td>\n      <td>3.000000</td>\n      <td>23.030415</td>\n      <td>0</td>\n    </tr>\n    <tr>\n      <th>11</th>\n      <td>167.543903</td>\n      <td>675.114286</td>\n      <td>54.155941</td>\n      <td>698.000000</td>\n      <td>7.758731</td>\n      <td>10.309278</td>\n      <td>33.685018</td>\n      <td>0</td>\n    </tr>\n    <tr>\n      <th>12</th>\n      <td>105.547456</td>\n      <td>733.533333</td>\n      <td>51.142894</td>\n      <td>766.065934</td>\n      <td>6.676043</td>\n      <td>12.222222</td>\n      <td>42.639575</td>\n      <td>0</td>\n    </tr>\n    <tr>\n      <th>13</th>\n      <td>165.951478</td>\n      <td>709.415385</td>\n      <td>34.836081</td>\n      <td>734.147368</td>\n      <td>4.745107</td>\n      <td>9.574468</td>\n      <td>28.808982</td>\n      <td>0</td>\n    </tr>\n    <tr>\n      <th>14</th>\n      <td>194.296766</td>\n      <td>712.848485</td>\n      <td>35.022540</td>\n      <td>727.621053</td>\n      <td>4.813294</td>\n      <td>12.765957</td>\n      <td>31.930776</td>\n      <td>1</td>\n    </tr>\n    <tr>\n      <th>15</th>\n      <td>87.749659</td>\n      <td>726.031579</td>\n      <td>77.892052</td>\n      <td>714.927835</td>\n      <td>10.895093</td>\n      <td>10.416667</td>\n      <td>103.026696</td>\n      <td>0</td>\n    </tr>\n    <tr>\n      <th>16</th>\n      <td>86.570314</td>\n      <td>759.421277</td>\n      <td>55.301355</td>\n      <td>750.956522</td>\n      <td>7.364122</td>\n      <td>13.186813</td>\n      <td>37.417749</td>\n      <td>0</td>\n    </tr>\n    <tr>\n      <th>17</th>\n      <td>121.875177</td>\n      <td>746.634146</td>\n      <td>50.830094</td>\n      <td>762.896552</td>\n      <td>6.662777</td>\n      <td>8.139535</td>\n      <td>32.815198</td>\n      <td>0</td>\n    </tr>\n    <tr>\n      <th>18</th>\n      <td>98.359947</td>\n      <td>695.619048</td>\n      <td>44.685769</td>\n      <td>735.326316</td>\n      <td>6.076998</td>\n      <td>18.085106</td>\n      <td>38.543703</td>\n      <td>0</td>\n    </tr>\n    <tr>\n      <th>19</th>\n      <td>43.435289</td>\n      <td>697.712752</td>\n      <td>191.918404</td>\n      <td>664.084211</td>\n      <td>28.899709</td>\n      <td>36.170213</td>\n      <td>223.982142</td>\n      <td>0</td>\n    </tr>\n  </tbody>\n</table>\n</div>"
     },
     "execution_count": 11,
     "metadata": {},
     "output_type": "execute_result"
    }
   ],
   "source": [
    "new_data = pd.DataFrame(data=statistic, columns=['AM0',\n",
    "                                 'mode',\n",
    "                                 'std',\n",
    "                                 'mean',\n",
    "                                 'var',\n",
    "                                 'p_NN50',\n",
    "                                 'rmssd'])\n",
    "new_data['anomaly'] = anomalies\n",
    "\n",
    "\n",
    "new_data = new_data.loc[~new_data['AM0'].isin([0])]\n",
    "new_data"
   ],
   "metadata": {
    "collapsed": false,
    "pycharm": {
     "name": "#%%\n"
    }
   }
  },
  {
   "cell_type": "code",
   "execution_count": 12,
   "outputs": [],
   "source": [
    "new_data['color'] = 'g'\n",
    "new_data.loc[new_data['anomaly'] == 1, 'color'] = 'r'"
   ],
   "metadata": {
    "collapsed": false,
    "pycharm": {
     "name": "#%%\n"
    }
   }
  },
  {
   "cell_type": "code",
   "execution_count": 13,
   "outputs": [
    {
     "data": {
      "text/plain": "<Figure size 720x2160 with 8 Axes>",
      "image/png": "[encoded data removed]"
     },
     "metadata": {
      "needs_background": "light"
     },
     "output_type": "display_data"
    }
   ],
   "source": [
    "fig, ax = plt.subplots(8)\n",
    "fig.set_figheight(30)\n",
    "fig.set_figwidth(10)\n",
    "i = 0\n",
    "for column in new_data.columns:\n",
    "    if column not in ['anomaly', 'color']:\n",
    "        ax[i].set_title(column)\n",
    "        ax[i].bar([x for x in range(0, new_data.shape[0])],\n",
    "                            new_data[column].values,\n",
    "                            color=new_data['color'].values)\n",
    "\n",
    "        i += 1\n",
    "\n",
    "fig.savefig('main_features.png')"
   ],
   "metadata": {
    "collapsed": false,
    "pycharm": {
     "name": "#%%\n"
    }
   }
  },
  {
   "cell_type": "code",
   "execution_count": 13,
   "outputs": [],
   "source": [],
   "metadata": {
    "collapsed": false,
    "pycharm": {
     "name": "#%%\n"
    }
   }
  }
 ],
 "metadata": {
  "kernelspec": {
   "name": "pycharm-a7fa1f9b",
   "language": "python",
   "display_name": "PyCharm (jb_test_2)"
  },
  "language_info": {
   "codemirror_mode": {
    "name": "ipython",
    "version": 2
   },
   "file_extension": ".py",
   "mimetype": "text/x-python",
   "name": "python",
   "nbconvert_exporter": "python",
   "pygments_lexer": "ipython2",
   "version": "2.7.6"
  }
 },
 "nbformat": 4,
 "nbformat_minor": 0
}