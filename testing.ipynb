{
 "cells": [
  {
   "cell_type": "code",
   "execution_count": 1,
   "metadata": {
    "collapsed": true
   },
   "outputs": [],
   "source": [
    "import pandas as pd\n",
    "import matplotlib.pyplot as plt\n",
    "from sklearn.neighbors import LocalOutlierFactor"
   ]
  },
  {
   "cell_type": "code",
   "execution_count": 2,
   "outputs": [],
   "source": [
    "data = pd.read_csv('data/train.csv', sep=',')"
   ],
   "metadata": {
    "collapsed": false,
    "pycharm": {
     "name": "#%%\n"
    }
   }
  },
  {
   "cell_type": "code",
   "execution_count": 3,
   "outputs": [
    {
     "name": "stdout",
     "output_type": "stream",
     "text": [
      "<class 'pandas.core.frame.DataFrame'>\n",
      "RangeIndex: 60487 entries, 0 to 60486\n",
      "Data columns (total 4 columns):\n",
      " #   Column  Non-Null Count  Dtype\n",
      "---  ------  --------------  -----\n",
      " 0   id      60487 non-null  int64\n",
      " 1   time    60487 non-null  int64\n",
      " 2   x       60487 non-null  int64\n",
      " 3   y       60487 non-null  int64\n",
      "dtypes: int64(4)\n",
      "memory usage: 1.8 MB\n"
     ]
    }
   ],
   "source": [
    "# нет пропусков\n",
    "data.info()"
   ],
   "metadata": {
    "collapsed": false,
    "pycharm": {
     "name": "#%%\n"
    }
   }
  },
  {
   "cell_type": "code",
   "execution_count": 4,
   "outputs": [],
   "source": [
    "import numpy as np"
   ],
   "metadata": {
    "collapsed": false,
    "pycharm": {
     "name": "#%%\n"
    }
   }
  },
  {
   "cell_type": "code",
   "execution_count": 11,
   "outputs": [
    {
     "data": {
      "text/plain": "      id     time    x  y color\n353    1   272904  716  1     b\n354    1   273620  716  1     b\n355    1   274340  720  1     b\n356    1   275060  720  1     b\n357    1   275776  716  1     b\n358    1   276484  708  1     b\n359    1   277200  716  1     b\n360    1   277924  724  1     b\n361    1   278656  732  1     b\n362    1   279440  784  1     b\n363    1   280104  664  1     b\n364    1   280808  704  1     b\n365    1   281504  696  1     b\n366    1   282200  696  1     b\n758    1   591832  780  1     b\n759    1   592624  792  1     b\n760    1   593416  792  1     b\n761    1   594188  772  1     b\n762    1   594976  788  1     b\n763    1   595764  788  1     b\n764    1   596592  828  1     b\n765    1   597308  716  1     b\n766    1   598064  756  1     b\n767    1   598824  760  1     b\n768    1   599592  768  1     b\n769    1   600356  764  1     b\n770    1   601116  760  1     b\n771    1   601884  768  1     b\n1374   1  1039168  720  1     b\n1375   1  1039880  712  1     b\n1376   1  1040596  716  1     b\n1377   1  1041316  720  1     b\n1378   1  1042040  724  1     b\n1379   1  1042824  784  1     b\n1380   1  1043508  684  1     b\n1381   1  1044220  712  1     b\n1382   1  1044916  696  1     b\n1383   1  1045624  708  1     b\n1384   1  1046348  724  1     b",
      "text/html": "<div>\n<style scoped>\n    .dataframe tbody tr th:only-of-type {\n        vertical-align: middle;\n    }\n\n    .dataframe tbody tr th {\n        vertical-align: top;\n    }\n\n    .dataframe thead th {\n        text-align: right;\n    }\n</style>\n<table border=\"1\" class=\"dataframe\">\n  <thead>\n    <tr style=\"text-align: right;\">\n      <th></th>\n      <th>id</th>\n      <th>time</th>\n      <th>x</th>\n      <th>y</th>\n      <th>color</th>\n    </tr>\n  </thead>\n  <tbody>\n    <tr>\n      <th>353</th>\n      <td>1</td>\n      <td>272904</td>\n      <td>716</td>\n      <td>1</td>\n      <td>b</td>\n    </tr>\n    <tr>\n      <th>354</th>\n      <td>1</td>\n      <td>273620</td>\n      <td>716</td>\n      <td>1</td>\n      <td>b</td>\n    </tr>\n    <tr>\n      <th>355</th>\n      <td>1</td>\n      <td>274340</td>\n      <td>720</td>\n      <td>1</td>\n      <td>b</td>\n    </tr>\n    <tr>\n      <th>356</th>\n      <td>1</td>\n      <td>275060</td>\n      <td>720</td>\n      <td>1</td>\n      <td>b</td>\n    </tr>\n    <tr>\n      <th>357</th>\n      <td>1</td>\n      <td>275776</td>\n      <td>716</td>\n      <td>1</td>\n      <td>b</td>\n    </tr>\n    <tr>\n      <th>358</th>\n      <td>1</td>\n      <td>276484</td>\n      <td>708</td>\n      <td>1</td>\n      <td>b</td>\n    </tr>\n    <tr>\n      <th>359</th>\n      <td>1</td>\n      <td>277200</td>\n      <td>716</td>\n      <td>1</td>\n      <td>b</td>\n    </tr>\n    <tr>\n      <th>360</th>\n      <td>1</td>\n      <td>277924</td>\n      <td>724</td>\n      <td>1</td>\n      <td>b</td>\n    </tr>\n    <tr>\n      <th>361</th>\n      <td>1</td>\n      <td>278656</td>\n      <td>732</td>\n      <td>1</td>\n      <td>b</td>\n    </tr>\n    <tr>\n      <th>362</th>\n      <td>1</td>\n      <td>279440</td>\n      <td>784</td>\n      <td>1</td>\n      <td>b</td>\n    </tr>\n    <tr>\n      <th>363</th>\n      <td>1</td>\n      <td>280104</td>\n      <td>664</td>\n      <td>1</td>\n      <td>b</td>\n    </tr>\n    <tr>\n      <th>364</th>\n      <td>1</td>\n      <td>280808</td>\n      <td>704</td>\n      <td>1</td>\n      <td>b</td>\n    </tr>\n    <tr>\n      <th>365</th>\n      <td>1</td>\n      <td>281504</td>\n      <td>696</td>\n      <td>1</td>\n      <td>b</td>\n    </tr>\n    <tr>\n      <th>366</th>\n      <td>1</td>\n      <td>282200</td>\n      <td>696</td>\n      <td>1</td>\n      <td>b</td>\n    </tr>\n    <tr>\n      <th>758</th>\n      <td>1</td>\n      <td>591832</td>\n      <td>780</td>\n      <td>1</td>\n      <td>b</td>\n    </tr>\n    <tr>\n      <th>759</th>\n      <td>1</td>\n      <td>592624</td>\n      <td>792</td>\n      <td>1</td>\n      <td>b</td>\n    </tr>\n    <tr>\n      <th>760</th>\n      <td>1</td>\n      <td>593416</td>\n      <td>792</td>\n      <td>1</td>\n      <td>b</td>\n    </tr>\n    <tr>\n      <th>761</th>\n      <td>1</td>\n      <td>594188</td>\n      <td>772</td>\n      <td>1</td>\n      <td>b</td>\n    </tr>\n    <tr>\n      <th>762</th>\n      <td>1</td>\n      <td>594976</td>\n      <td>788</td>\n      <td>1</td>\n      <td>b</td>\n    </tr>\n    <tr>\n      <th>763</th>\n      <td>1</td>\n      <td>595764</td>\n      <td>788</td>\n      <td>1</td>\n      <td>b</td>\n    </tr>\n    <tr>\n      <th>764</th>\n      <td>1</td>\n      <td>596592</td>\n      <td>828</td>\n      <td>1</td>\n      <td>b</td>\n    </tr>\n    <tr>\n      <th>765</th>\n      <td>1</td>\n      <td>597308</td>\n      <td>716</td>\n      <td>1</td>\n      <td>b</td>\n    </tr>\n    <tr>\n      <th>766</th>\n      <td>1</td>\n      <td>598064</td>\n      <td>756</td>\n      <td>1</td>\n      <td>b</td>\n    </tr>\n    <tr>\n      <th>767</th>\n      <td>1</td>\n      <td>598824</td>\n      <td>760</td>\n      <td>1</td>\n      <td>b</td>\n    </tr>\n    <tr>\n      <th>768</th>\n      <td>1</td>\n      <td>599592</td>\n      <td>768</td>\n      <td>1</td>\n      <td>b</td>\n    </tr>\n    <tr>\n      <th>769</th>\n      <td>1</td>\n      <td>600356</td>\n      <td>764</td>\n      <td>1</td>\n      <td>b</td>\n    </tr>\n    <tr>\n      <th>770</th>\n      <td>1</td>\n      <td>601116</td>\n      <td>760</td>\n      <td>1</td>\n      <td>b</td>\n    </tr>\n    <tr>\n      <th>771</th>\n      <td>1</td>\n      <td>601884</td>\n      <td>768</td>\n      <td>1</td>\n      <td>b</td>\n    </tr>\n    <tr>\n      <th>1374</th>\n      <td>1</td>\n      <td>1039168</td>\n      <td>720</td>\n      <td>1</td>\n      <td>b</td>\n    </tr>\n    <tr>\n      <th>1375</th>\n      <td>1</td>\n      <td>1039880</td>\n      <td>712</td>\n      <td>1</td>\n      <td>b</td>\n    </tr>\n    <tr>\n      <th>1376</th>\n      <td>1</td>\n      <td>1040596</td>\n      <td>716</td>\n      <td>1</td>\n      <td>b</td>\n    </tr>\n    <tr>\n      <th>1377</th>\n      <td>1</td>\n      <td>1041316</td>\n      <td>720</td>\n      <td>1</td>\n      <td>b</td>\n    </tr>\n    <tr>\n      <th>1378</th>\n      <td>1</td>\n      <td>1042040</td>\n      <td>724</td>\n      <td>1</td>\n      <td>b</td>\n    </tr>\n    <tr>\n      <th>1379</th>\n      <td>1</td>\n      <td>1042824</td>\n      <td>784</td>\n      <td>1</td>\n      <td>b</td>\n    </tr>\n    <tr>\n      <th>1380</th>\n      <td>1</td>\n      <td>1043508</td>\n      <td>684</td>\n      <td>1</td>\n      <td>b</td>\n    </tr>\n    <tr>\n      <th>1381</th>\n      <td>1</td>\n      <td>1044220</td>\n      <td>712</td>\n      <td>1</td>\n      <td>b</td>\n    </tr>\n    <tr>\n      <th>1382</th>\n      <td>1</td>\n      <td>1044916</td>\n      <td>696</td>\n      <td>1</td>\n      <td>b</td>\n    </tr>\n    <tr>\n      <th>1383</th>\n      <td>1</td>\n      <td>1045624</td>\n      <td>708</td>\n      <td>1</td>\n      <td>b</td>\n    </tr>\n    <tr>\n      <th>1384</th>\n      <td>1</td>\n      <td>1046348</td>\n      <td>724</td>\n      <td>1</td>\n      <td>b</td>\n    </tr>\n  </tbody>\n</table>\n</div>"
     },
     "execution_count": 11,
     "metadata": {},
     "output_type": "execute_result"
    }
   ],
   "source": [
    "data[(data.id == 1) & (data.y == 1)]\n"
   ],
   "metadata": {
    "collapsed": false,
    "pycharm": {
     "name": "#%%\n"
    }
   }
  },
  {
   "cell_type": "code",
   "execution_count": 6,
   "outputs": [],
   "source": [
    "mean = data.loc[data['id'] == 1, 'x'].mean()"
   ],
   "metadata": {
    "collapsed": false,
    "pycharm": {
     "name": "#%%\n"
    }
   }
  },
  {
   "cell_type": "code",
   "execution_count": 7,
   "outputs": [],
   "source": [
    "data = data[data['x'] < 1.5 * mean]\n",
    "data = data[data['x'] > 0.5 * mean]\n",
    "\n",
    "mean = data.loc[data['id'] == 1, 'x'].mean()"
   ],
   "metadata": {
    "collapsed": false,
    "pycharm": {
     "name": "#%%\n"
    }
   }
  },
  {
   "cell_type": "code",
   "execution_count": 10,
   "outputs": [
    {
     "data": {
      "text/plain": "<Figure size 1152x720 with 1 Axes>",
      "image/png": "[encoded data removed]"
     },
     "metadata": {
      "needs_background": "light"
     },
     "output_type": "display_data"
    }
   ],
   "source": [
    "data['color'] = 'g'\n",
    "data.loc[data['y'] == 1, 'color'] = 'b'\n",
    "plt.figure(figsize=(16, 10))\n",
    "plt.hlines(mean, 0, 2000)\n",
    "\n",
    "plt.bar(data.loc[data['id'] == 1].index, data.loc[data['id'] == 1, 'x'], color=data.loc[data['id'] == 1, 'color'] )\n",
    "plt.savefig('testfig0.png')"
   ],
   "metadata": {
    "collapsed": false,
    "pycharm": {
     "name": "#%%\n"
    }
   }
  },
  {
   "cell_type": "code",
   "execution_count": 8,
   "outputs": [
    {
     "data": {
      "text/plain": "<AxesSubplot:>"
     },
     "execution_count": 8,
     "metadata": {},
     "output_type": "execute_result"
    },
    {
     "data": {
      "text/plain": "<Figure size 432x288 with 1 Axes>",
      "image/png": "[encoded data removed]"
     },
     "metadata": {
      "needs_background": "light"
     },
     "output_type": "display_data"
    }
   ],
   "source": [
    "data.loc[data['id'] == 1, 'x'].hist()"
   ],
   "metadata": {
    "collapsed": false,
    "pycharm": {
     "name": "#%%\n"
    }
   }
  },
  {
   "cell_type": "code",
   "execution_count": 9,
   "outputs": [],
   "source": [
    "data.drop(columns='color', inplace=True)"
   ],
   "metadata": {
    "collapsed": false,
    "pycharm": {
     "name": "#%%\n"
    }
   }
  },
  {
   "cell_type": "code",
   "execution_count": 10,
   "outputs": [],
   "source": [
    "new_data = pd.DataFrame(columns=['count', 'anomaly'])"
   ],
   "metadata": {
    "collapsed": false,
    "pycharm": {
     "name": "#%%\n"
    }
   }
  },
  {
   "cell_type": "code",
   "execution_count": 11,
   "outputs": [],
   "source": [
    "STEP = 10000\n",
    "\n",
    "def_list = []\n",
    "user1 = data.loc[data.id == 1, ['time']]\n",
    "\n",
    "anomaly_list = []\n",
    "\n",
    "for index in user1.loc[user1.time < (user1.time.max() - STEP)].index:\n",
    "\n",
    "    curr_value = user1.loc[index]\n",
    "    next_value = curr_value.time + STEP\n",
    "\n",
    "    nearest = user1.loc[index + 1 :]\n",
    "\n",
    "    nearest_index = (nearest.time - next_value).abs().sort_values().index[0]\n",
    "    #print(nearest_index)\n",
    "    def_list.append(nearest_index - index)\n",
    "\n",
    "    anomaly = data.loc[index : nearest_index, 'y']\n",
    "\n",
    "    if 1 in anomaly.values:\n",
    "        anomaly_list.append(1)\n",
    "    else:\n",
    "        anomaly_list.append(0)\n",
    "\n"
   ],
   "metadata": {
    "collapsed": false,
    "pycharm": {
     "name": "#%%\n"
    }
   }
  },
  {
   "cell_type": "code",
   "execution_count": 12,
   "outputs": [],
   "source": [
    "new_data['count'] = def_list\n",
    "new_data['anomaly'] = anomaly_list"
   ],
   "metadata": {
    "collapsed": false,
    "pycharm": {
     "name": "#%%\n"
    }
   }
  },
  {
   "cell_type": "code",
   "execution_count": 13,
   "outputs": [
    {
     "data": {
      "text/plain": "<Figure size 2160x720 with 1 Axes>",
      "image/png": "[encoded data removed]"
     },
     "metadata": {
      "needs_background": "light"
     },
     "output_type": "display_data"
    }
   ],
   "source": [
    "new_data['color'] = 'g'\n",
    "new_data.loc[new_data['anomaly'] == 1, 'color'] = 'r'\n",
    "\n",
    "plt.figure(figsize=(30, 10))\n",
    "\n",
    "plt.bar(new_data.index, new_data['count'].values, color=new_data['color'].values)\n",
    "plt.xticks([x for x in range(0,new_data.shape[0], 50 )] )\n",
    "plt.savefig('testfig.png')"
   ],
   "metadata": {
    "collapsed": false,
    "pycharm": {
     "name": "#%%\n"
    }
   }
  },
  {
   "cell_type": "code",
   "execution_count": 14,
   "outputs": [
    {
     "data": {
      "text/plain": "      count  anomaly color\n0        12        0     g\n1        12        0     g\n2        12        0     g\n3        12        0     g\n4        12        0     g\n...     ...      ...   ...\n1804     19        0     g\n1805     19        0     g\n1806     19        0     g\n1807     21        0     g\n1808     20        0     g\n\n[1809 rows x 3 columns]",
      "text/html": "<div>\n<style scoped>\n    .dataframe tbody tr th:only-of-type {\n        vertical-align: middle;\n    }\n\n    .dataframe tbody tr th {\n        vertical-align: top;\n    }\n\n    .dataframe thead th {\n        text-align: right;\n    }\n</style>\n<table border=\"1\" class=\"dataframe\">\n  <thead>\n    <tr style=\"text-align: right;\">\n      <th></th>\n      <th>count</th>\n      <th>anomaly</th>\n      <th>color</th>\n    </tr>\n  </thead>\n  <tbody>\n    <tr>\n      <th>0</th>\n      <td>12</td>\n      <td>0</td>\n      <td>g</td>\n    </tr>\n    <tr>\n      <th>1</th>\n      <td>12</td>\n      <td>0</td>\n      <td>g</td>\n    </tr>\n    <tr>\n      <th>2</th>\n      <td>12</td>\n      <td>0</td>\n      <td>g</td>\n    </tr>\n    <tr>\n      <th>3</th>\n      <td>12</td>\n      <td>0</td>\n      <td>g</td>\n    </tr>\n    <tr>\n      <th>4</th>\n      <td>12</td>\n      <td>0</td>\n      <td>g</td>\n    </tr>\n    <tr>\n      <th>...</th>\n      <td>...</td>\n      <td>...</td>\n      <td>...</td>\n    </tr>\n    <tr>\n      <th>1804</th>\n      <td>19</td>\n      <td>0</td>\n      <td>g</td>\n    </tr>\n    <tr>\n      <th>1805</th>\n      <td>19</td>\n      <td>0</td>\n      <td>g</td>\n    </tr>\n    <tr>\n      <th>1806</th>\n      <td>19</td>\n      <td>0</td>\n      <td>g</td>\n    </tr>\n    <tr>\n      <th>1807</th>\n      <td>21</td>\n      <td>0</td>\n      <td>g</td>\n    </tr>\n    <tr>\n      <th>1808</th>\n      <td>20</td>\n      <td>0</td>\n      <td>g</td>\n    </tr>\n  </tbody>\n</table>\n<p>1809 rows × 3 columns</p>\n</div>"
     },
     "execution_count": 14,
     "metadata": {},
     "output_type": "execute_result"
    }
   ],
   "source": [
    "new_data"
   ],
   "metadata": {
    "collapsed": false,
    "pycharm": {
     "name": "#%%\n"
    }
   }
  },
  {
   "cell_type": "code",
   "execution_count": 14,
   "outputs": [],
   "source": [],
   "metadata": {
    "collapsed": false,
    "pycharm": {
     "name": "#%%\n"
    }
   }
  }
 ],
 "metadata": {
  "kernelspec": {
   "name": "pycharm-a7fa1f9b",
   "language": "python",
   "display_name": "PyCharm (jb_test_2)"
  },
  "language_info": {
   "codemirror_mode": {
    "name": "ipython",
    "version": 2
   },
   "file_extension": ".py",
   "mimetype": "text/x-python",
   "name": "python",
   "nbconvert_exporter": "python",
   "pygments_lexer": "ipython2",
   "version": "2.7.6"
  }
 },
 "nbformat": 4,
 "nbformat_minor": 0
}