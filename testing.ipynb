{
 "cells": [
  {
   "cell_type": "code",
   "execution_count": 26,
   "metadata": {
    "collapsed": true
   },
   "outputs": [],
   "source": [
    "import pandas as pd"
   ]
  },
  {
   "cell_type": "code",
   "execution_count": 27,
   "outputs": [],
   "source": [
    "data = pd.read_csv('data/train.csv', sep=',')"
   ],
   "metadata": {
    "collapsed": false,
    "pycharm": {
     "name": "#%%\n"
    }
   }
  },
  {
   "cell_type": "code",
   "execution_count": 28,
   "outputs": [
    {
     "name": "stdout",
     "output_type": "stream",
     "text": [
      "<class 'pandas.core.frame.DataFrame'>\n",
      "RangeIndex: 60487 entries, 0 to 60486\n",
      "Data columns (total 4 columns):\n",
      " #   Column  Non-Null Count  Dtype\n",
      "---  ------  --------------  -----\n",
      " 0   id      60487 non-null  int64\n",
      " 1   time    60487 non-null  int64\n",
      " 2   x       60487 non-null  int64\n",
      " 3   y       60487 non-null  int64\n",
      "dtypes: int64(4)\n",
      "memory usage: 1.8 MB\n"
     ]
    }
   ],
   "source": [
    "# нет пропусков\n",
    "data.info()"
   ],
   "metadata": {
    "collapsed": false,
    "pycharm": {
     "name": "#%%\n"
    }
   }
  },
  {
   "cell_type": "code",
   "execution_count": 29,
   "outputs": [],
   "source": [
    "import numpy as np"
   ],
   "metadata": {
    "collapsed": false,
    "pycharm": {
     "name": "#%%\n"
    }
   }
  },
  {
   "cell_type": "code",
   "execution_count": 30,
   "outputs": [
    {
     "data": {
      "text/plain": "                 id          time             x             y\ncount  60487.000000  6.048700e+04  60487.000000  60487.000000\nmean     136.440607  2.503140e+05    617.766677      0.148148\nstd       74.537697  3.457017e+05    287.553536      0.355249\nmin        1.000000  0.000000e+00     12.000000      0.000000\n25%       87.000000  4.122800e+04    548.000000      0.000000\n50%      137.000000  1.014480e+05    624.000000      0.000000\n75%      197.000000  3.032860e+05    732.000000      0.000000\nmax      275.000000  1.868576e+06  40900.000000      1.000000",
      "text/html": "<div>\n<style scoped>\n    .dataframe tbody tr th:only-of-type {\n        vertical-align: middle;\n    }\n\n    .dataframe tbody tr th {\n        vertical-align: top;\n    }\n\n    .dataframe thead th {\n        text-align: right;\n    }\n</style>\n<table border=\"1\" class=\"dataframe\">\n  <thead>\n    <tr style=\"text-align: right;\">\n      <th></th>\n      <th>id</th>\n      <th>time</th>\n      <th>x</th>\n      <th>y</th>\n    </tr>\n  </thead>\n  <tbody>\n    <tr>\n      <th>count</th>\n      <td>60487.000000</td>\n      <td>6.048700e+04</td>\n      <td>60487.000000</td>\n      <td>60487.000000</td>\n    </tr>\n    <tr>\n      <th>mean</th>\n      <td>136.440607</td>\n      <td>2.503140e+05</td>\n      <td>617.766677</td>\n      <td>0.148148</td>\n    </tr>\n    <tr>\n      <th>std</th>\n      <td>74.537697</td>\n      <td>3.457017e+05</td>\n      <td>287.553536</td>\n      <td>0.355249</td>\n    </tr>\n    <tr>\n      <th>min</th>\n      <td>1.000000</td>\n      <td>0.000000e+00</td>\n      <td>12.000000</td>\n      <td>0.000000</td>\n    </tr>\n    <tr>\n      <th>25%</th>\n      <td>87.000000</td>\n      <td>4.122800e+04</td>\n      <td>548.000000</td>\n      <td>0.000000</td>\n    </tr>\n    <tr>\n      <th>50%</th>\n      <td>137.000000</td>\n      <td>1.014480e+05</td>\n      <td>624.000000</td>\n      <td>0.000000</td>\n    </tr>\n    <tr>\n      <th>75%</th>\n      <td>197.000000</td>\n      <td>3.032860e+05</td>\n      <td>732.000000</td>\n      <td>0.000000</td>\n    </tr>\n    <tr>\n      <th>max</th>\n      <td>275.000000</td>\n      <td>1.868576e+06</td>\n      <td>40900.000000</td>\n      <td>1.000000</td>\n    </tr>\n  </tbody>\n</table>\n</div>"
     },
     "execution_count": 30,
     "metadata": {},
     "output_type": "execute_result"
    }
   ],
   "source": [
    "data.describe()"
   ],
   "metadata": {
    "collapsed": false,
    "pycharm": {
     "name": "#%%\n"
    }
   }
  },
  {
   "cell_type": "code",
   "execution_count": 31,
   "outputs": [],
   "source": [
    "import matplotlib.pyplot as plt"
   ],
   "metadata": {
    "collapsed": false,
    "pycharm": {
     "name": "#%%\n"
    }
   }
  },
  {
   "cell_type": "code",
   "execution_count": 150,
   "outputs": [
    {
     "data": {
      "text/plain": "<Figure size 1152x720 with 1 Axes>",
      "image/png": "[encoded data removed]"
     },
     "metadata": {
      "needs_background": "light"
     },
     "output_type": "display_data"
    }
   ],
   "source": [
    "data['color'] = 'g'\n",
    "data.loc[data['y'] == 1, 'color'] = 'b'\n",
    "\n",
    "plt.figure(figsize=(16, 10))\n",
    "plt.bar(data.loc[data['id'] == 3].index, data.loc[data['id'] == 3, 'x'], color=data.loc[data['id'] == 3, 'color'] )\n",
    "plt.savefig('testfig0.png')"
   ],
   "metadata": {
    "collapsed": false,
    "pycharm": {
     "name": "#%%\n"
    }
   }
  },
  {
   "cell_type": "code",
   "execution_count": 33,
   "outputs": [],
   "source": [
    "data.drop(columns='color', inplace=True)"
   ],
   "metadata": {
    "collapsed": false,
    "pycharm": {
     "name": "#%%\n"
    }
   }
  },
  {
   "cell_type": "code",
   "execution_count": 34,
   "outputs": [],
   "source": [
    "new_data = pd.DataFrame(columns=['count', 'anomaly'])"
   ],
   "metadata": {
    "collapsed": false,
    "pycharm": {
     "name": "#%%\n"
    }
   }
  },
  {
   "cell_type": "code",
   "execution_count": 138,
   "outputs": [],
   "source": [
    "STEP = 10000\n",
    "\n",
    "def_list = []\n",
    "user1 = data.loc[data.id == 1, ['time']]\n",
    "\n",
    "anomaly_list = []\n",
    "\n",
    "for index in user1.loc[user1.time < (user1.time.max() - STEP)].index:\n",
    "\n",
    "    curr_value = user1.loc[index]\n",
    "    next_value = curr_value.time + STEP\n",
    "\n",
    "    nearest = user1.loc[index + 1 :]\n",
    "\n",
    "    nearest_index = (nearest.time - next_value).abs().sort_values().index[0]\n",
    "    #print(nearest_index)\n",
    "    def_list.append(nearest_index - index)\n",
    "\n",
    "    anomaly = data.loc[index : nearest_index, 'y']\n",
    "\n",
    "    if 1 in anomaly.values:\n",
    "        anomaly_list.append(1)\n",
    "    else:\n",
    "        anomaly_list.append(0)\n",
    "\n"
   ],
   "metadata": {
    "collapsed": false,
    "pycharm": {
     "name": "#%%\n"
    }
   }
  },
  {
   "cell_type": "code",
   "execution_count": 139,
   "outputs": [],
   "source": [
    "new_data['count'] = def_list\n",
    "new_data['anomaly'] = anomaly_list"
   ],
   "metadata": {
    "collapsed": false,
    "pycharm": {
     "name": "#%%\n"
    }
   }
  },
  {
   "cell_type": "code",
   "execution_count": 149,
   "outputs": [
    {
     "data": {
      "text/plain": "<Figure size 2160x720 with 1 Axes>",
      "image/png": "[encoded data removed]"
     },
     "metadata": {
      "needs_background": "light"
     },
     "output_type": "display_data"
    }
   ],
   "source": [
    "new_data['color'] = 'g'\n",
    "new_data.loc[new_data['anomaly'] == 1, 'color'] = 'r'\n",
    "\n",
    "plt.figure(figsize=(30, 10))\n",
    "\n",
    "plt.bar(new_data.index, new_data['count'].values, color=new_data['color'].values)\n",
    "plt.xticks([x for x in range(0,new_data.shape[0], 50 )] )\n",
    "plt.savefig('testfig.png')"
   ],
   "metadata": {
    "collapsed": false,
    "pycharm": {
     "name": "#%%\n"
    }
   }
  },
  {
   "cell_type": "code",
   "execution_count": 141,
   "outputs": [
    {
     "data": {
      "text/plain": "      count  anomaly color\n0        12        0     g\n1        12        0     g\n2        12        0     g\n3        12        0     g\n4        12        0     g\n...     ...      ...   ...\n1844     19        0     g\n1845     19        0     g\n1846     20        0     g\n1847     21        0     g\n1848     20        0     g\n\n[1849 rows x 3 columns]",
      "text/html": "<div>\n<style scoped>\n    .dataframe tbody tr th:only-of-type {\n        vertical-align: middle;\n    }\n\n    .dataframe tbody tr th {\n        vertical-align: top;\n    }\n\n    .dataframe thead th {\n        text-align: right;\n    }\n</style>\n<table border=\"1\" class=\"dataframe\">\n  <thead>\n    <tr style=\"text-align: right;\">\n      <th></th>\n      <th>count</th>\n      <th>anomaly</th>\n      <th>color</th>\n    </tr>\n  </thead>\n  <tbody>\n    <tr>\n      <th>0</th>\n      <td>12</td>\n      <td>0</td>\n      <td>g</td>\n    </tr>\n    <tr>\n      <th>1</th>\n      <td>12</td>\n      <td>0</td>\n      <td>g</td>\n    </tr>\n    <tr>\n      <th>2</th>\n      <td>12</td>\n      <td>0</td>\n      <td>g</td>\n    </tr>\n    <tr>\n      <th>3</th>\n      <td>12</td>\n      <td>0</td>\n      <td>g</td>\n    </tr>\n    <tr>\n      <th>4</th>\n      <td>12</td>\n      <td>0</td>\n      <td>g</td>\n    </tr>\n    <tr>\n      <th>...</th>\n      <td>...</td>\n      <td>...</td>\n      <td>...</td>\n    </tr>\n    <tr>\n      <th>1844</th>\n      <td>19</td>\n      <td>0</td>\n      <td>g</td>\n    </tr>\n    <tr>\n      <th>1845</th>\n      <td>19</td>\n      <td>0</td>\n      <td>g</td>\n    </tr>\n    <tr>\n      <th>1846</th>\n      <td>20</td>\n      <td>0</td>\n      <td>g</td>\n    </tr>\n    <tr>\n      <th>1847</th>\n      <td>21</td>\n      <td>0</td>\n      <td>g</td>\n    </tr>\n    <tr>\n      <th>1848</th>\n      <td>20</td>\n      <td>0</td>\n      <td>g</td>\n    </tr>\n  </tbody>\n</table>\n<p>1849 rows × 3 columns</p>\n</div>"
     },
     "execution_count": 141,
     "metadata": {},
     "output_type": "execute_result"
    }
   ],
   "source": [
    "new_data"
   ],
   "metadata": {
    "collapsed": false,
    "pycharm": {
     "name": "#%%\n"
    }
   }
  },
  {
   "cell_type": "code",
   "execution_count": null,
   "outputs": [],
   "source": [],
   "metadata": {
    "collapsed": false,
    "pycharm": {
     "name": "#%%\n"
    }
   }
  }
 ],
 "metadata": {
  "kernelspec": {
   "name": "pycharm-a7fa1f9b",
   "language": "python",
   "display_name": "PyCharm (jb_test_2)"
  },
  "language_info": {
   "codemirror_mode": {
    "name": "ipython",
    "version": 2
   },
   "file_extension": ".py",
   "mimetype": "text/x-python",
   "name": "python",
   "nbconvert_exporter": "python",
   "pygments_lexer": "ipython2",
   "version": "2.7.6"
  }
 },
 "nbformat": 4,
 "nbformat_minor": 0
}