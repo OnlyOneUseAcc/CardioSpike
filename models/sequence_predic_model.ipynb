{
 "cells": [
  {
   "cell_type": "code",
   "execution_count": 1,
   "outputs": [],
   "source": [
    "import matplotlib.pyplot as plt\n",
    "import pandas as pd\n",
    "from tensorflow import keras as ks\n",
    "import numpy as np\n",
    "from tensorflow.keras import Input\n",
    "import tensorflow as tf\n",
    "from sklearn.metrics import f1_score, confusion_matrix\n",
    "import gc"
   ],
   "metadata": {
    "collapsed": false,
    "pycharm": {
     "name": "#%%\n"
    }
   }
  },
  {
   "cell_type": "code",
   "execution_count": 2,
   "outputs": [
    {
     "data": {
      "text/plain": "   tension_index_int    mode_int    std_int    mean_int   var_int  pnn50_int  \\\n0          38.040113  795.642857  69.377642  823.428571  8.425460       55.0   \n1          35.472331  853.238095  69.195100  824.190476  8.395523       50.0   \n2          35.472331  853.238095  69.072770  824.380952  8.378744       55.0   \n3          35.472331  853.238095  69.829725  823.238095  8.482324       55.0   \n4          35.472331  853.238095  72.383634  819.238095  8.835482       60.0   \n\n   RMSSD_int   ivr_int   vpr_int  papr_int  ...  y11  y12  y13  y14  y15  y16  \\\n0  70.359079  0.000605  0.000005  0.000180  ...    0    0    0    0    0    0   \n1  69.460780  0.000605  0.000005  0.000167  ...    0    0    0    0    0    0   \n2  70.608781  0.000605  0.000005  0.000167  ...    0    0    0    0    0    0   \n3  71.369461  0.000605  0.000005  0.000167  ...    0    0    0    0    0    0   \n4  74.592225  0.000605  0.000005  0.000167  ...    0    0    0    0    0    0   \n\n   y17  y18  y19  y20  \n0    0    0    0    0  \n1    0    0    0    0  \n2    0    0    0    0  \n3    0    0    0    0  \n4    0    0    0    0  \n\n[5 rows x 62 columns]",
      "text/html": "<div>\n<style scoped>\n    .dataframe tbody tr th:only-of-type {\n        vertical-align: middle;\n    }\n\n    .dataframe tbody tr th {\n        vertical-align: top;\n    }\n\n    .dataframe thead th {\n        text-align: right;\n    }\n</style>\n<table border=\"1\" class=\"dataframe\">\n  <thead>\n    <tr style=\"text-align: right;\">\n      <th></th>\n      <th>tension_index_int</th>\n      <th>mode_int</th>\n      <th>std_int</th>\n      <th>mean_int</th>\n      <th>var_int</th>\n      <th>pnn50_int</th>\n      <th>RMSSD_int</th>\n      <th>ivr_int</th>\n      <th>vpr_int</th>\n      <th>papr_int</th>\n      <th>...</th>\n      <th>y11</th>\n      <th>y12</th>\n      <th>y13</th>\n      <th>y14</th>\n      <th>y15</th>\n      <th>y16</th>\n      <th>y17</th>\n      <th>y18</th>\n      <th>y19</th>\n      <th>y20</th>\n    </tr>\n  </thead>\n  <tbody>\n    <tr>\n      <th>0</th>\n      <td>38.040113</td>\n      <td>795.642857</td>\n      <td>69.377642</td>\n      <td>823.428571</td>\n      <td>8.425460</td>\n      <td>55.0</td>\n      <td>70.359079</td>\n      <td>0.000605</td>\n      <td>0.000005</td>\n      <td>0.000180</td>\n      <td>...</td>\n      <td>0</td>\n      <td>0</td>\n      <td>0</td>\n      <td>0</td>\n      <td>0</td>\n      <td>0</td>\n      <td>0</td>\n      <td>0</td>\n      <td>0</td>\n      <td>0</td>\n    </tr>\n    <tr>\n      <th>1</th>\n      <td>35.472331</td>\n      <td>853.238095</td>\n      <td>69.195100</td>\n      <td>824.190476</td>\n      <td>8.395523</td>\n      <td>50.0</td>\n      <td>69.460780</td>\n      <td>0.000605</td>\n      <td>0.000005</td>\n      <td>0.000167</td>\n      <td>...</td>\n      <td>0</td>\n      <td>0</td>\n      <td>0</td>\n      <td>0</td>\n      <td>0</td>\n      <td>0</td>\n      <td>0</td>\n      <td>0</td>\n      <td>0</td>\n      <td>0</td>\n    </tr>\n    <tr>\n      <th>2</th>\n      <td>35.472331</td>\n      <td>853.238095</td>\n      <td>69.072770</td>\n      <td>824.380952</td>\n      <td>8.378744</td>\n      <td>55.0</td>\n      <td>70.608781</td>\n      <td>0.000605</td>\n      <td>0.000005</td>\n      <td>0.000167</td>\n      <td>...</td>\n      <td>0</td>\n      <td>0</td>\n      <td>0</td>\n      <td>0</td>\n      <td>0</td>\n      <td>0</td>\n      <td>0</td>\n      <td>0</td>\n      <td>0</td>\n      <td>0</td>\n    </tr>\n    <tr>\n      <th>3</th>\n      <td>35.472331</td>\n      <td>853.238095</td>\n      <td>69.829725</td>\n      <td>823.238095</td>\n      <td>8.482324</td>\n      <td>55.0</td>\n      <td>71.369461</td>\n      <td>0.000605</td>\n      <td>0.000005</td>\n      <td>0.000167</td>\n      <td>...</td>\n      <td>0</td>\n      <td>0</td>\n      <td>0</td>\n      <td>0</td>\n      <td>0</td>\n      <td>0</td>\n      <td>0</td>\n      <td>0</td>\n      <td>0</td>\n      <td>0</td>\n    </tr>\n    <tr>\n      <th>4</th>\n      <td>35.472331</td>\n      <td>853.238095</td>\n      <td>72.383634</td>\n      <td>819.238095</td>\n      <td>8.835482</td>\n      <td>60.0</td>\n      <td>74.592225</td>\n      <td>0.000605</td>\n      <td>0.000005</td>\n      <td>0.000167</td>\n      <td>...</td>\n      <td>0</td>\n      <td>0</td>\n      <td>0</td>\n      <td>0</td>\n      <td>0</td>\n      <td>0</td>\n      <td>0</td>\n      <td>0</td>\n      <td>0</td>\n      <td>0</td>\n    </tr>\n  </tbody>\n</table>\n<p>5 rows × 62 columns</p>\n</div>"
     },
     "execution_count": 2,
     "metadata": {},
     "output_type": "execute_result"
    }
   ],
   "source": [
    "train = pd.read_csv('../data/split_data/train_stats.csv', index_col=0)\n",
    "test = pd.read_csv('../data/split_data/test_stats.csv', index_col=0)\n",
    "train.head()"
   ],
   "metadata": {
    "collapsed": false,
    "pycharm": {
     "name": "#%%\n"
    }
   }
  },
  {
   "cell_type": "code",
   "execution_count": 3,
   "outputs": [],
   "source": [
    "\n",
    "zero_train = train.copy()\n",
    "zero_test = test.copy()\n",
    "\n",
    "for column in zero_train.iloc[:, -21:].columns:\n",
    "    zero_train = zero_train.loc[zero_train[column] == 0]\n",
    "    zero_test = zero_test.loc[zero_test[column] == 0]\n",
    "\n",
    "one_train = train.drop(index=zero_train.index)\n",
    "zero_train = zero_train.sample(one_train.shape[0] // 2)"
   ],
   "metadata": {
    "collapsed": false,
    "pycharm": {
     "name": "#%%\n"
    }
   }
  },
  {
   "cell_type": "code",
   "execution_count": 4,
   "outputs": [],
   "source": [
    "eq_train = pd.concat((one_train, zero_train), axis=0).sample(2 * zero_train.shape[0])"
   ],
   "metadata": {
    "collapsed": false,
    "pycharm": {
     "name": "#%%\n"
    }
   }
  },
  {
   "cell_type": "code",
   "execution_count": 21,
   "outputs": [],
   "source": [
    "\n",
    "\n",
    "model = ks.Sequential([\n",
    "    ks.layers.Input(shape=(21, 1)),\n",
    "\n",
    "    ks.layers.Conv1D( filters=32, kernel_size=3, padding='same'),\n",
    "    tf.keras.layers.LeakyReLU(alpha=0.2),\n",
    "    #ks.layers.MaxPooling1D(2),\n",
    "    ks.layers.BatchNormalization(),\n",
    "    ks.layers.Dropout(0.2),\n",
    "\n",
    "    ks.layers.Conv1D( filters=32, kernel_size=3, padding='same'),\n",
    "    tf.keras.layers.LeakyReLU(alpha=0.2),\n",
    "    #ks.layers.MaxPooling1D(2),\n",
    "    ks.layers.BatchNormalization(),\n",
    "    ks.layers.Dropout(0.2),\n",
    "\n",
    "    ks.layers.Conv1D( filters=32, kernel_size=3, padding='same'),\n",
    "    tf.keras.layers.LeakyReLU(alpha=0.2),\n",
    "    #ks.layers.MaxPooling1D(2),\n",
    "    ks.layers.BatchNormalization(),\n",
    "    ks.layers.Dropout(0.2),\n",
    "\n",
    "    ks.layers.Conv1D( filters=32, kernel_size=3, padding='same'),\n",
    "    tf.keras.layers.LeakyReLU(alpha=0.2),\n",
    "    #ks.layers.MaxPooling1D(2),\n",
    "    ks.layers.BatchNormalization(),\n",
    "    ks.layers.Dropout(0.2),\n",
    "\n",
    "    ks.layers.Flatten(),\n",
    "    ks.layers.Dense(32),\n",
    "    tf.keras.layers.LeakyReLU(alpha=0.2),\n",
    "    ks.layers.Dense(21, activation=tf.keras.activations.hard_sigmoid)\n",
    "])\n",
    "\n",
    "model.compile(optimizer=ks.optimizers.Adam(learning_rate=0.01), loss='mse', metrics='mae')"
   ],
   "metadata": {
    "collapsed": false,
    "pycharm": {
     "name": "#%%\n"
    }
   }
  },
  {
   "cell_type": "code",
   "execution_count": 22,
   "outputs": [],
   "source": [
    "history = model.fit(x=eq_train.loc[:, 'r-r-0': 'r-r-20'].values.reshape((-1, 21, 1)), y=eq_train.loc[:, 'y0': 'y20'], batch_size=32,\n",
    "          epochs=200,\n",
    "          validation_data=(\n",
    "              test.loc[:, 'r-r-0': 'r-r-20'].values.reshape((-1, 21, 1)),\n",
    "              test.loc[:, 'y0': 'y20']\n",
    "          ),\n",
    "                    shuffle=True,\n",
    "                    verbose=0)\n",
    "\n"
   ],
   "metadata": {
    "collapsed": false,
    "pycharm": {
     "name": "#%%\n"
    }
   }
  },
  {
   "cell_type": "code",
   "execution_count": 23,
   "outputs": [
    {
     "data": {
      "text/plain": "[<matplotlib.lines.Line2D at 0x20d716798b0>]"
     },
     "execution_count": 23,
     "metadata": {},
     "output_type": "execute_result"
    },
    {
     "data": {
      "text/plain": "<Figure size 432x288 with 1 Axes>",
      "image/png": "[encoded data removed]"
     },
     "metadata": {
      "needs_background": "light"
     },
     "output_type": "display_data"
    }
   ],
   "source": [
    "plt.plot(history.epoch, history.history['loss'])\n",
    "plt.plot(history.epoch, history.history['val_loss'])"
   ],
   "metadata": {
    "collapsed": false,
    "pycharm": {
     "name": "#%%\n"
    }
   }
  },
  {
   "cell_type": "code",
   "execution_count": 24,
   "outputs": [],
   "source": [
    "pred = model.predict(test.loc[:, 'r-r-0': 'r-r-20'].values.reshape((-1, 21, 1)))\n",
    "\n",
    "\n",
    "result = np.zeros(pred.shape[1] + pred.shape[0] - 1)\n",
    "count = np.zeros(pred.shape[1] + pred.shape[0] - 1)\n",
    "for element_index in range(0, pred.shape[1]):\n",
    "    for row_index in range(0, pred.shape[0]):\n",
    "        result[row_index + element_index] += pred[ row_index, element_index]\n",
    "        count[row_index + element_index] += 1\n"
   ],
   "metadata": {
    "collapsed": false,
    "pycharm": {
     "name": "#%%\n"
    }
   }
  },
  {
   "cell_type": "code",
   "execution_count": 25,
   "outputs": [],
   "source": [
    "result = np.divide(result, count)\n",
    "result[result > 0.5] = 1\n",
    "result[result <= 0.5] = 0"
   ],
   "metadata": {
    "collapsed": false,
    "pycharm": {
     "name": "#%%\n"
    }
   }
  },
  {
   "cell_type": "code",
   "execution_count": 26,
   "outputs": [],
   "source": [
    "test_array = test.iloc[:, -21:].values\n",
    "\n",
    "test_y = np.zeros(test_array.shape[1] + test_array.shape[0] - 1)\n",
    "\n",
    "for element_index in range(0, test_array.shape[1]):\n",
    "    for row_index in range(0, test_array.shape[0]):\n",
    "        test_y[row_index + element_index] += test_array[row_index, element_index]\n",
    "\n",
    "test_y[test_y > 0] = 1"
   ],
   "metadata": {
    "collapsed": false,
    "pycharm": {
     "name": "#%%\n"
    }
   }
  },
  {
   "cell_type": "code",
   "execution_count": 27,
   "outputs": [
    {
     "data": {
      "text/plain": "0.8081218274111674"
     },
     "execution_count": 27,
     "metadata": {},
     "output_type": "execute_result"
    }
   ],
   "source": [
    "f1_score(y_pred=result, y_true=test_y, average='binary')\n"
   ],
   "metadata": {
    "collapsed": false,
    "pycharm": {
     "name": "#%%\n"
    }
   }
  },
  {
   "cell_type": "code",
   "execution_count": 28,
   "outputs": [
    {
     "data": {
      "text/plain": "array([[748, 121],\n       [ 68, 398]], dtype=int64)"
     },
     "execution_count": 28,
     "metadata": {},
     "output_type": "execute_result"
    }
   ],
   "source": [
    "confusion_matrix(y_true=test_y, y_pred=result)"
   ],
   "metadata": {
    "collapsed": false,
    "pycharm": {
     "name": "#%%\n"
    }
   }
  },
  {
   "cell_type": "code",
   "execution_count": 250,
   "outputs": [],
   "source": [],
   "metadata": {
    "collapsed": false,
    "pycharm": {
     "name": "#%%\n"
    }
   }
  },
  {
   "cell_type": "code",
   "execution_count": null,
   "outputs": [],
   "source": [
    "for part in range(0, len(pred)):\n",
    "    plt.ylim((-0.1, 1.1))\n",
    "    plt.plot(np.arange(0, 21), pred[part])\n",
    "    plt.plot(np.arange(0, 21), test.iloc[part, -21:])\n",
    "    plt.hlines(0.5, 0, 20, colors='r')\n",
    "    plt.savefig(f'plots/plot{part}.png')\n",
    "    plt.clf()"
   ],
   "metadata": {
    "collapsed": false,
    "pycharm": {
     "name": "#%%\n"
    }
   }
  },
  {
   "cell_type": "code",
   "execution_count": null,
   "outputs": [],
   "source": [
    "import imageio\n",
    "import glob\n",
    "anim_file = 'result.gif'\n",
    "\n",
    "with imageio.get_writer(anim_file, mode='I') as writer:\n",
    "  filenames = glob.glob('plots/plot*.png')\n",
    "  filenames = sorted(filenames)\n",
    "  for filename in filenames:\n",
    "    image = imageio.imread(filename)\n",
    "    writer.append_data(image)\n",
    "    writer.append_data(image)\n",
    "    writer.append_data(image)"
   ],
   "metadata": {
    "collapsed": false,
    "pycharm": {
     "name": "#%%\n"
    }
   }
  }
 ],
 "metadata": {
  "kernelspec": {
   "name": "pycharm-a7fa1f9b",
   "language": "python",
   "display_name": "PyCharm (jb_test_2)"
  },
  "language_info": {
   "codemirror_mode": {
    "name": "ipython",
    "version": 2
   },
   "file_extension": ".py",
   "mimetype": "text/x-python",
   "name": "python",
   "nbconvert_exporter": "python",
   "pygments_lexer": "ipython2",
   "version": "2.7.6"
  }
 },
 "nbformat": 4,
 "nbformat_minor": 0
}