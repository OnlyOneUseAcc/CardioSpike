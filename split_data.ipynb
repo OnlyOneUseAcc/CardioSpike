{
 "cells": [
  {
   "cell_type": "code",
   "execution_count": 5,
   "metadata": {
    "collapsed": true
   },
   "outputs": [],
   "source": [
    "import pandas as pd\n",
    "import random"
   ]
  },
  {
   "cell_type": "code",
   "execution_count": 4,
   "outputs": [
    {
     "data": {
      "text/plain": "   id  time    x  y\n0   1     0  800  0\n1   1   780  780  0\n2   1  1572  792  0\n3   1  2392  820  0\n4   1  3196  804  0",
      "text/html": "<div>\n<style scoped>\n    .dataframe tbody tr th:only-of-type {\n        vertical-align: middle;\n    }\n\n    .dataframe tbody tr th {\n        vertical-align: top;\n    }\n\n    .dataframe thead th {\n        text-align: right;\n    }\n</style>\n<table border=\"1\" class=\"dataframe\">\n  <thead>\n    <tr style=\"text-align: right;\">\n      <th></th>\n      <th>id</th>\n      <th>time</th>\n      <th>x</th>\n      <th>y</th>\n    </tr>\n  </thead>\n  <tbody>\n    <tr>\n      <th>0</th>\n      <td>1</td>\n      <td>0</td>\n      <td>800</td>\n      <td>0</td>\n    </tr>\n    <tr>\n      <th>1</th>\n      <td>1</td>\n      <td>780</td>\n      <td>780</td>\n      <td>0</td>\n    </tr>\n    <tr>\n      <th>2</th>\n      <td>1</td>\n      <td>1572</td>\n      <td>792</td>\n      <td>0</td>\n    </tr>\n    <tr>\n      <th>3</th>\n      <td>1</td>\n      <td>2392</td>\n      <td>820</td>\n      <td>0</td>\n    </tr>\n    <tr>\n      <th>4</th>\n      <td>1</td>\n      <td>3196</td>\n      <td>804</td>\n      <td>0</td>\n    </tr>\n  </tbody>\n</table>\n</div>"
     },
     "execution_count": 4,
     "metadata": {},
     "output_type": "execute_result"
    }
   ],
   "source": [
    "data = pd.read_csv('data/train.csv')\n",
    "data.head()\n"
   ],
   "metadata": {
    "collapsed": false,
    "pycharm": {
     "name": "#%%\n"
    }
   }
  },
  {
   "cell_type": "code",
   "execution_count": 52,
   "outputs": [],
   "source": [
    "test = pd.DataFrame(columns=data.columns)\n",
    "train = pd.DataFrame(columns=data.columns)\n",
    "PART = 0.1\n",
    "is_equal = False\n",
    "ids = data.id.unique().tolist()\n",
    "while not is_equal:\n",
    "    test_ids = random.sample(list(ids), int(PART * len(ids)))\n",
    "    train_ids = set(ids) - set(test_ids)\n",
    "\n",
    "    test = data.loc[data.id.isin(test_ids)]\n",
    "    train = data.loc[data.id.isin(train_ids)]\n",
    "\n",
    "    if 0.99 < (test.x.mean() / train.x.mean()) < 1.01:\n",
    "        is_equal = True"
   ],
   "metadata": {
    "collapsed": false,
    "pycharm": {
     "name": "#%%\n"
    }
   }
  },
  {
   "cell_type": "code",
   "execution_count": 53,
   "outputs": [
    {
     "data": {
      "text/plain": "(613.4280319535221, 618.3239617924704)"
     },
     "execution_count": 53,
     "metadata": {},
     "output_type": "execute_result"
    }
   ],
   "source": [
    "test.x.mean(), train.x.mean()"
   ],
   "metadata": {
    "collapsed": false,
    "pycharm": {
     "name": "#%%\n"
    }
   }
  },
  {
   "cell_type": "code",
   "execution_count": 54,
   "outputs": [],
   "source": [
    "test.to_csv('data/split_data/test.csv')\n",
    "train.to_csv('data/split_data/train.csv')"
   ],
   "metadata": {
    "collapsed": false,
    "pycharm": {
     "name": "#%%\n"
    }
   }
  },
  {
   "cell_type": "code",
   "execution_count": 15,
   "outputs": [],
   "source": [
    "import pandas as pd\n",
    "\n",
    "train = pd.read_csv('data/split_data/train.csv', index_col=0)\n",
    "test = pd.read_csv('data/split_data/test.csv', index_col=0)"
   ],
   "metadata": {
    "collapsed": false,
    "pycharm": {
     "name": "#%%\n"
    }
   }
  },
  {
   "cell_type": "code",
   "execution_count": 19,
   "outputs": [
    {
     "data": {
      "text/plain": "Empty DataFrame\nColumns: [tension_index_int, mode_int, std_int, mean_int, var_int, pnn50_int, RMSSD_int, ivr_int, vpr_int, papr_int, tension_index_user, mode_user, std_user, mean_user, var_user, pnn50_user, RMSSD_user, ivr_user, vpr_user, papr_user, r-r-0, r-r-1, r-r-2, r-r-3, r-r-4, r-r-5, r-r-6, r-r-7, r-r-8, r-r-9, y0, y1, y2, y3, y4, y5, y6, y7, y8, y9]\nIndex: []\n\n[0 rows x 40 columns]",
      "text/html": "<div>\n<style scoped>\n    .dataframe tbody tr th:only-of-type {\n        vertical-align: middle;\n    }\n\n    .dataframe tbody tr th {\n        vertical-align: top;\n    }\n\n    .dataframe thead th {\n        text-align: right;\n    }\n</style>\n<table border=\"1\" class=\"dataframe\">\n  <thead>\n    <tr style=\"text-align: right;\">\n      <th></th>\n      <th>tension_index_int</th>\n      <th>mode_int</th>\n      <th>std_int</th>\n      <th>mean_int</th>\n      <th>var_int</th>\n      <th>pnn50_int</th>\n      <th>RMSSD_int</th>\n      <th>ivr_int</th>\n      <th>vpr_int</th>\n      <th>papr_int</th>\n      <th>...</th>\n      <th>y0</th>\n      <th>y1</th>\n      <th>y2</th>\n      <th>y3</th>\n      <th>y4</th>\n      <th>y5</th>\n      <th>y6</th>\n      <th>y7</th>\n      <th>y8</th>\n      <th>y9</th>\n    </tr>\n  </thead>\n  <tbody>\n  </tbody>\n</table>\n<p>0 rows × 40 columns</p>\n</div>"
     },
     "execution_count": 19,
     "metadata": {},
     "output_type": "execute_result"
    }
   ],
   "source": [
    "PREDICT_PART = 10\n",
    "\n",
    "from main_features.rr_features import StatFeatures\n",
    "\n",
    "name_cols = ['tension_index_int',\n",
    "             'mode_int',\n",
    "             'std_int',\n",
    "             'mean_int',\n",
    "             'var_int',\n",
    "             'pnn50_int',\n",
    "             'RMSSD_int',\n",
    "             'ivr_int',\n",
    "             'vpr_int',\n",
    "             'papr_int',\n",
    "             'tension_index_user',\n",
    "             'mode_user',\n",
    "             'std_user',\n",
    "             'mean_user',\n",
    "             'var_user',\n",
    "             'pnn50_user',\n",
    "             'RMSSD_user',\n",
    "             'ivr_user',\n",
    "             'vpr_user',\n",
    "             'papr_user'] + \\\n",
    "            [f'r-r-{i}' for i in range(PREDICT_PART)] + \\\n",
    "            [f'y{i}' for i in range(PREDICT_PART)]\n",
    "df_train_stats = pd.DataFrame(columns=name_cols)\n",
    "df_test_stats = pd.DataFrame(columns=name_cols)\n",
    "df_train_stats.head()"
   ],
   "metadata": {
    "collapsed": false,
    "pycharm": {
     "name": "#%%\n"
    }
   }
  },
  {
   "cell_type": "code",
   "execution_count": 20,
   "outputs": [
    {
     "name": "stdout",
     "output_type": "stream",
     "text": [
      "ID 1 из 275\n"
     ]
    },
    {
     "name": "stderr",
     "output_type": "stream",
     "text": [
      "100%|██████████| 1860/1860 [00:21<00:00, 87.57it/s]\n",
      "  5%|▍         | 10/216 [00:00<00:02, 99.24it/s]"
     ]
    },
    {
     "name": "stdout",
     "output_type": "stream",
     "text": [
      "ID 2 из 275\n"
     ]
    },
    {
     "name": "stderr",
     "output_type": "stream",
     "text": [
      "100%|██████████| 216/216 [00:02<00:00, 95.74it/s]\n",
      " 21%|██        | 20/95 [00:00<00:00, 96.50it/s]"
     ]
    },
    {
     "name": "stdout",
     "output_type": "stream",
     "text": [
      "ID 3 из 275\n"
     ]
    },
    {
     "name": "stderr",
     "output_type": "stream",
     "text": [
      "100%|██████████| 95/95 [00:00<00:00, 96.90it/s]\n",
      " 16%|█▌        | 20/125 [00:00<00:01, 96.48it/s]"
     ]
    },
    {
     "name": "stdout",
     "output_type": "stream",
     "text": [
      "ID 4 из 275\n"
     ]
    },
    {
     "name": "stderr",
     "output_type": "stream",
     "text": [
      "100%|██████████| 125/125 [00:01<00:00, 96.78it/s]\n",
      "  6%|▌         | 10/179 [00:00<00:01, 98.27it/s]"
     ]
    },
    {
     "name": "stdout",
     "output_type": "stream",
     "text": [
      "ID 5 из 275\n"
     ]
    },
    {
     "name": "stderr",
     "output_type": "stream",
     "text": [
      "100%|██████████| 179/179 [00:02<00:00, 82.98it/s]\n",
      "  6%|▋         | 10/158 [00:00<00:01, 88.73it/s]"
     ]
    },
    {
     "name": "stdout",
     "output_type": "stream",
     "text": [
      "ID 6 из 275\n"
     ]
    },
    {
     "name": "stderr",
     "output_type": "stream",
     "text": [
      "100%|██████████| 158/158 [00:01<00:00, 89.96it/s]\n",
      " 10%|▉         | 10/105 [00:00<00:00, 98.30it/s]"
     ]
    },
    {
     "name": "stdout",
     "output_type": "stream",
     "text": [
      "ID 7 из 275\n"
     ]
    },
    {
     "name": "stderr",
     "output_type": "stream",
     "text": [
      "100%|██████████| 105/105 [00:01<00:00, 78.86it/s]\n",
      " 12%|█▎        | 17/136 [00:00<00:01, 80.78it/s]"
     ]
    },
    {
     "name": "stdout",
     "output_type": "stream",
     "text": [
      "ID 10 из 275\n"
     ]
    },
    {
     "name": "stderr",
     "output_type": "stream",
     "text": [
      "100%|██████████| 136/136 [00:01<00:00, 83.01it/s]\n",
      " 14%|█▍        | 20/144 [00:00<00:01, 91.40it/s]"
     ]
    },
    {
     "name": "stdout",
     "output_type": "stream",
     "text": [
      "ID 12 из 275\n"
     ]
    },
    {
     "name": "stderr",
     "output_type": "stream",
     "text": [
      "100%|██████████| 144/144 [00:01<00:00, 93.70it/s]\n",
      "  8%|▊         | 20/254 [00:00<00:02, 95.85it/s]"
     ]
    },
    {
     "name": "stdout",
     "output_type": "stream",
     "text": [
      "ID 13 из 275\n"
     ]
    },
    {
     "name": "stderr",
     "output_type": "stream",
     "text": [
      "100%|██████████| 254/254 [00:02<00:00, 91.61it/s]\n",
      "  5%|▍         | 10/210 [00:00<00:02, 91.15it/s]"
     ]
    },
    {
     "name": "stdout",
     "output_type": "stream",
     "text": [
      "ID 15 из 275\n"
     ]
    },
    {
     "name": "stderr",
     "output_type": "stream",
     "text": [
      "100%|██████████| 210/210 [00:02<00:00, 92.15it/s]\n",
      "  5%|▍         | 10/216 [00:00<00:02, 98.33it/s]"
     ]
    },
    {
     "name": "stdout",
     "output_type": "stream",
     "text": [
      "ID 16 из 275\n"
     ]
    },
    {
     "name": "stderr",
     "output_type": "stream",
     "text": [
      "100%|██████████| 216/216 [00:02<00:00, 90.49it/s]\n",
      "  4%|▍         | 10/261 [00:00<00:02, 94.60it/s]"
     ]
    },
    {
     "name": "stdout",
     "output_type": "stream",
     "text": [
      "ID 17 из 275\n"
     ]
    },
    {
     "name": "stderr",
     "output_type": "stream",
     "text": [
      "100%|██████████| 261/261 [00:02<00:00, 91.01it/s]\n",
      "  3%|▎         | 20/771 [00:00<00:08, 91.39it/s]"
     ]
    },
    {
     "name": "stdout",
     "output_type": "stream",
     "text": [
      "ID 21 из 275\n"
     ]
    },
    {
     "name": "stderr",
     "output_type": "stream",
     "text": [
      "100%|██████████| 771/771 [00:08<00:00, 92.57it/s]\n",
      "  1%|          | 10/930 [00:00<00:09, 93.18it/s]"
     ]
    },
    {
     "name": "stdout",
     "output_type": "stream",
     "text": [
      "ID 22 из 275\n"
     ]
    },
    {
     "name": "stderr",
     "output_type": "stream",
     "text": [
      "100%|██████████| 930/930 [00:09<00:00, 95.04it/s]\n",
      "  4%|▍         | 20/481 [00:00<00:04, 95.27it/s]"
     ]
    },
    {
     "name": "stdout",
     "output_type": "stream",
     "text": [
      "ID 23 из 275\n"
     ]
    },
    {
     "name": "stderr",
     "output_type": "stream",
     "text": [
      "100%|██████████| 481/481 [00:05<00:00, 93.05it/s]\n",
      "  2%|▏         | 8/374 [00:00<00:04, 73.73it/s]"
     ]
    },
    {
     "name": "stdout",
     "output_type": "stream",
     "text": [
      "ID 24 из 275\n"
     ]
    },
    {
     "name": "stderr",
     "output_type": "stream",
     "text": [
      "100%|██████████| 374/374 [00:04<00:00, 87.89it/s]\n",
      "  7%|▋         | 20/299 [00:00<00:02, 95.40it/s]"
     ]
    },
    {
     "name": "stdout",
     "output_type": "stream",
     "text": [
      "ID 27 из 275\n"
     ]
    },
    {
     "name": "stderr",
     "output_type": "stream",
     "text": [
      "100%|██████████| 299/299 [00:03<00:00, 94.98it/s]\n",
      "  9%|▉         | 9/99 [00:00<00:01, 83.78it/s]"
     ]
    },
    {
     "name": "stdout",
     "output_type": "stream",
     "text": [
      "ID 29 из 275\n"
     ]
    },
    {
     "name": "stderr",
     "output_type": "stream",
     "text": [
      "100%|██████████| 99/99 [00:01<00:00, 93.64it/s]\n",
      " 15%|█▌        | 20/132 [00:00<00:01, 92.33it/s]"
     ]
    },
    {
     "name": "stdout",
     "output_type": "stream",
     "text": [
      "ID 30 из 275\n"
     ]
    },
    {
     "name": "stderr",
     "output_type": "stream",
     "text": [
      "100%|██████████| 132/132 [00:01<00:00, 94.13it/s]\n",
      " 12%|█▏        | 10/85 [00:00<00:00, 95.15it/s]"
     ]
    },
    {
     "name": "stdout",
     "output_type": "stream",
     "text": [
      "ID 31 из 275\n"
     ]
    },
    {
     "name": "stderr",
     "output_type": "stream",
     "text": [
      "100%|██████████| 85/85 [00:00<00:00, 93.39it/s]\n",
      "  9%|▊         | 10/117 [00:00<00:01, 91.21it/s]"
     ]
    },
    {
     "name": "stdout",
     "output_type": "stream",
     "text": [
      "ID 33 из 275\n"
     ]
    },
    {
     "name": "stderr",
     "output_type": "stream",
     "text": [
      "100%|██████████| 117/117 [00:01<00:00, 91.29it/s]\n",
      " 61%|██████▏   | 19/31 [00:00<00:00, 90.11it/s]"
     ]
    },
    {
     "name": "stdout",
     "output_type": "stream",
     "text": [
      "ID 34 из 275\n"
     ]
    },
    {
     "name": "stderr",
     "output_type": "stream",
     "text": [
      "100%|██████████| 31/31 [00:00<00:00, 92.08it/s]\n",
      " 17%|█▋        | 10/59 [00:00<00:00, 95.01it/s]"
     ]
    },
    {
     "name": "stdout",
     "output_type": "stream",
     "text": [
      "ID 35 из 275\n"
     ]
    },
    {
     "name": "stderr",
     "output_type": "stream",
     "text": [
      "100%|██████████| 59/59 [00:00<00:00, 93.82it/s]\n",
      " 34%|███▍      | 20/59 [00:00<00:00, 92.94it/s]"
     ]
    },
    {
     "name": "stdout",
     "output_type": "stream",
     "text": [
      "ID 38 из 275\n"
     ]
    },
    {
     "name": "stderr",
     "output_type": "stream",
     "text": [
      "100%|██████████| 59/59 [00:00<00:00, 95.11it/s]\n",
      " 16%|█▋        | 10/61 [00:00<00:00, 94.64it/s]"
     ]
    },
    {
     "name": "stdout",
     "output_type": "stream",
     "text": [
      "ID 39 из 275\n"
     ]
    },
    {
     "name": "stderr",
     "output_type": "stream",
     "text": [
      "100%|██████████| 61/61 [00:00<00:00, 92.78it/s]\n",
      " 18%|█▊        | 10/55 [00:00<00:00, 93.94it/s]"
     ]
    },
    {
     "name": "stdout",
     "output_type": "stream",
     "text": [
      "ID 40 из 275\n"
     ]
    },
    {
     "name": "stderr",
     "output_type": "stream",
     "text": [
      "100%|██████████| 55/55 [00:00<00:00, 90.27it/s]\n",
      " 11%|█         | 9/83 [00:00<00:00, 89.50it/s]"
     ]
    },
    {
     "name": "stdout",
     "output_type": "stream",
     "text": [
      "ID 42 из 275\n"
     ]
    },
    {
     "name": "stderr",
     "output_type": "stream",
     "text": [
      "100%|██████████| 83/83 [00:00<00:00, 89.05it/s]\n",
      " 12%|█▎        | 10/80 [00:00<00:00, 92.09it/s]"
     ]
    },
    {
     "name": "stdout",
     "output_type": "stream",
     "text": [
      "ID 43 из 275\n"
     ]
    },
    {
     "name": "stderr",
     "output_type": "stream",
     "text": [
      "100%|██████████| 80/80 [00:00<00:00, 91.77it/s]\n",
      "  8%|▊         | 10/121 [00:00<00:01, 95.17it/s]"
     ]
    },
    {
     "name": "stdout",
     "output_type": "stream",
     "text": [
      "ID 45 из 275\n"
     ]
    },
    {
     "name": "stderr",
     "output_type": "stream",
     "text": [
      "100%|██████████| 121/121 [00:01<00:00, 90.99it/s]\n",
      "  6%|▌         | 9/153 [00:00<00:01, 88.95it/s]"
     ]
    },
    {
     "name": "stdout",
     "output_type": "stream",
     "text": [
      "ID 46 из 275\n"
     ]
    },
    {
     "name": "stderr",
     "output_type": "stream",
     "text": [
      "100%|██████████| 153/153 [00:01<00:00, 94.22it/s]\n",
      " 27%|██▋       | 18/67 [00:00<00:00, 89.81it/s]"
     ]
    },
    {
     "name": "stdout",
     "output_type": "stream",
     "text": [
      "ID 47 из 275\n"
     ]
    },
    {
     "name": "stderr",
     "output_type": "stream",
     "text": [
      "100%|██████████| 67/67 [00:00<00:00, 93.00it/s]\n",
      " 25%|██▌       | 20/80 [00:00<00:00, 94.18it/s]"
     ]
    },
    {
     "name": "stdout",
     "output_type": "stream",
     "text": [
      "ID 48 из 275\n"
     ]
    },
    {
     "name": "stderr",
     "output_type": "stream",
     "text": [
      "100%|██████████| 80/80 [00:00<00:00, 93.78it/s]\n",
      " 21%|██        | 19/90 [00:00<00:00, 90.51it/s]"
     ]
    },
    {
     "name": "stdout",
     "output_type": "stream",
     "text": [
      "ID 49 из 275\n"
     ]
    },
    {
     "name": "stderr",
     "output_type": "stream",
     "text": [
      "100%|██████████| 90/90 [00:00<00:00, 93.11it/s]\n",
      " 11%|█▏        | 8/70 [00:00<00:00, 71.38it/s]"
     ]
    },
    {
     "name": "stdout",
     "output_type": "stream",
     "text": [
      "ID 51 из 275\n"
     ]
    },
    {
     "name": "stderr",
     "output_type": "stream",
     "text": [
      "100%|██████████| 70/70 [00:00<00:00, 77.71it/s]\n",
      " 12%|█▏        | 9/77 [00:00<00:00, 81.93it/s]"
     ]
    },
    {
     "name": "stdout",
     "output_type": "stream",
     "text": [
      "ID 53 из 275\n"
     ]
    },
    {
     "name": "stderr",
     "output_type": "stream",
     "text": [
      "100%|██████████| 77/77 [00:00<00:00, 89.35it/s]\n",
      "  6%|▌         | 9/153 [00:00<00:01, 87.28it/s]"
     ]
    },
    {
     "name": "stdout",
     "output_type": "stream",
     "text": [
      "ID 55 из 275\n"
     ]
    },
    {
     "name": "stderr",
     "output_type": "stream",
     "text": [
      "100%|██████████| 153/153 [00:01<00:00, 92.55it/s]\n",
      " 23%|██▎       | 20/86 [00:00<00:00, 94.27it/s]"
     ]
    },
    {
     "name": "stdout",
     "output_type": "stream",
     "text": [
      "ID 57 из 275\n"
     ]
    },
    {
     "name": "stderr",
     "output_type": "stream",
     "text": [
      "100%|██████████| 86/86 [00:00<00:00, 92.96it/s]\n",
      " 65%|██████▍   | 20/31 [00:00<00:00, 95.20it/s]"
     ]
    },
    {
     "name": "stdout",
     "output_type": "stream",
     "text": [
      "ID 58 из 275\n"
     ]
    },
    {
     "name": "stderr",
     "output_type": "stream",
     "text": [
      "100%|██████████| 31/31 [00:00<00:00, 92.36it/s]\n",
      " 10%|█         | 10/98 [00:00<00:00, 91.57it/s]"
     ]
    },
    {
     "name": "stdout",
     "output_type": "stream",
     "text": [
      "ID 59 из 275\n"
     ]
    },
    {
     "name": "stderr",
     "output_type": "stream",
     "text": [
      "100%|██████████| 98/98 [00:01<00:00, 92.42it/s]\n",
      " 12%|█▏        | 20/164 [00:00<00:01, 93.62it/s]"
     ]
    },
    {
     "name": "stdout",
     "output_type": "stream",
     "text": [
      "ID 60 из 275\n"
     ]
    },
    {
     "name": "stderr",
     "output_type": "stream",
     "text": [
      "100%|██████████| 164/164 [00:01<00:00, 95.03it/s]\n",
      " 10%|█         | 20/191 [00:00<00:01, 94.69it/s]"
     ]
    },
    {
     "name": "stdout",
     "output_type": "stream",
     "text": [
      "ID 61 из 275\n"
     ]
    },
    {
     "name": "stderr",
     "output_type": "stream",
     "text": [
      "100%|██████████| 191/191 [00:02<00:00, 90.85it/s]\n",
      "  6%|▋         | 10/159 [00:00<00:01, 94.54it/s]"
     ]
    },
    {
     "name": "stdout",
     "output_type": "stream",
     "text": [
      "ID 62 из 275\n"
     ]
    },
    {
     "name": "stderr",
     "output_type": "stream",
     "text": [
      "100%|██████████| 159/159 [00:01<00:00, 92.88it/s]\n",
      "  8%|▊         | 10/121 [00:00<00:01, 93.45it/s]"
     ]
    },
    {
     "name": "stdout",
     "output_type": "stream",
     "text": [
      "ID 63 из 275\n"
     ]
    },
    {
     "name": "stderr",
     "output_type": "stream",
     "text": [
      "100%|██████████| 121/121 [00:01<00:00, 92.99it/s]\n",
      " 11%|█         | 10/91 [00:00<00:00, 95.50it/s]"
     ]
    },
    {
     "name": "stdout",
     "output_type": "stream",
     "text": [
      "ID 64 из 275\n"
     ]
    },
    {
     "name": "stderr",
     "output_type": "stream",
     "text": [
      "100%|██████████| 91/91 [00:00<00:00, 94.04it/s]\n",
      " 23%|██▎       | 19/84 [00:00<00:00, 90.66it/s]"
     ]
    },
    {
     "name": "stdout",
     "output_type": "stream",
     "text": [
      "ID 65 из 275\n"
     ]
    },
    {
     "name": "stderr",
     "output_type": "stream",
     "text": [
      "100%|██████████| 84/84 [00:00<00:00, 92.77it/s]\n",
      " 10%|▉         | 9/94 [00:00<00:00, 86.67it/s]"
     ]
    },
    {
     "name": "stdout",
     "output_type": "stream",
     "text": [
      "ID 66 из 275\n"
     ]
    },
    {
     "name": "stderr",
     "output_type": "stream",
     "text": [
      "100%|██████████| 94/94 [00:01<00:00, 91.78it/s]\n",
      " 11%|█         | 9/83 [00:00<00:00, 88.96it/s]"
     ]
    },
    {
     "name": "stdout",
     "output_type": "stream",
     "text": [
      "ID 67 из 275\n"
     ]
    },
    {
     "name": "stderr",
     "output_type": "stream",
     "text": [
      "100%|██████████| 83/83 [00:00<00:00, 91.71it/s]\n",
      "  9%|▉         | 9/96 [00:00<00:01, 80.28it/s]"
     ]
    },
    {
     "name": "stdout",
     "output_type": "stream",
     "text": [
      "ID 68 из 275\n"
     ]
    },
    {
     "name": "stderr",
     "output_type": "stream",
     "text": [
      "100%|██████████| 96/96 [00:01<00:00, 92.45it/s]\n",
      " 15%|█▍        | 19/128 [00:00<00:01, 94.96it/s]"
     ]
    },
    {
     "name": "stdout",
     "output_type": "stream",
     "text": [
      "ID 69 из 275\n"
     ]
    },
    {
     "name": "stderr",
     "output_type": "stream",
     "text": [
      "100%|██████████| 128/128 [00:01<00:00, 93.78it/s]\n",
      " 15%|█▍        | 19/127 [00:00<00:01, 92.79it/s]"
     ]
    },
    {
     "name": "stdout",
     "output_type": "stream",
     "text": [
      "ID 70 из 275\n"
     ]
    },
    {
     "name": "stderr",
     "output_type": "stream",
     "text": [
      "100%|██████████| 127/127 [00:01<00:00, 93.72it/s]\n",
      "  6%|▌         | 10/177 [00:00<00:01, 94.50it/s]"
     ]
    },
    {
     "name": "stdout",
     "output_type": "stream",
     "text": [
      "ID 71 из 275\n"
     ]
    },
    {
     "name": "stderr",
     "output_type": "stream",
     "text": [
      "100%|██████████| 177/177 [00:01<00:00, 93.36it/s]\n",
      "  8%|▊         | 10/129 [00:00<00:01, 95.21it/s]"
     ]
    },
    {
     "name": "stdout",
     "output_type": "stream",
     "text": [
      "ID 72 из 275\n"
     ]
    },
    {
     "name": "stderr",
     "output_type": "stream",
     "text": [
      "100%|██████████| 129/129 [00:01<00:00, 94.60it/s]\n",
      " 15%|█▌        | 10/66 [00:00<00:00, 95.55it/s]"
     ]
    },
    {
     "name": "stdout",
     "output_type": "stream",
     "text": [
      "ID 73 из 275\n"
     ]
    },
    {
     "name": "stderr",
     "output_type": "stream",
     "text": [
      "100%|██████████| 66/66 [00:00<00:00, 92.55it/s]\n",
      " 39%|███▉      | 18/46 [00:00<00:00, 87.92it/s]"
     ]
    },
    {
     "name": "stdout",
     "output_type": "stream",
     "text": [
      "ID 74 из 275\n"
     ]
    },
    {
     "name": "stderr",
     "output_type": "stream",
     "text": [
      "100%|██████████| 46/46 [00:00<00:00, 85.49it/s]\n",
      "  5%|▌         | 10/200 [00:00<00:02, 92.58it/s]"
     ]
    },
    {
     "name": "stdout",
     "output_type": "stream",
     "text": [
      "ID 76 из 275\n"
     ]
    },
    {
     "name": "stderr",
     "output_type": "stream",
     "text": [
      "100%|██████████| 200/200 [00:02<00:00, 90.42it/s]\n",
      "  4%|▍         | 10/239 [00:00<00:02, 95.89it/s]"
     ]
    },
    {
     "name": "stdout",
     "output_type": "stream",
     "text": [
      "ID 77 из 275\n"
     ]
    },
    {
     "name": "stderr",
     "output_type": "stream",
     "text": [
      "100%|██████████| 239/239 [00:02<00:00, 95.49it/s]\n",
      " 34%|███▍      | 20/59 [00:00<00:00, 90.12it/s]"
     ]
    },
    {
     "name": "stdout",
     "output_type": "stream",
     "text": [
      "ID 78 из 275\n"
     ]
    },
    {
     "name": "stderr",
     "output_type": "stream",
     "text": [
      "100%|██████████| 59/59 [00:00<00:00, 93.40it/s]\n",
      " 26%|██▋       | 20/76 [00:00<00:00, 95.11it/s]"
     ]
    },
    {
     "name": "stdout",
     "output_type": "stream",
     "text": [
      "ID 79 из 275\n"
     ]
    },
    {
     "name": "stderr",
     "output_type": "stream",
     "text": [
      "100%|██████████| 76/76 [00:00<00:00, 93.82it/s]\n",
      " 16%|█▌        | 10/62 [00:00<00:00, 95.16it/s]"
     ]
    },
    {
     "name": "stdout",
     "output_type": "stream",
     "text": [
      "ID 80 из 275\n"
     ]
    },
    {
     "name": "stderr",
     "output_type": "stream",
     "text": [
      "100%|██████████| 62/62 [00:00<00:00, 89.85it/s]\n",
      " 17%|█▋        | 10/60 [00:00<00:00, 97.01it/s]"
     ]
    },
    {
     "name": "stdout",
     "output_type": "stream",
     "text": [
      "ID 84 из 275\n"
     ]
    },
    {
     "name": "stderr",
     "output_type": "stream",
     "text": [
      "100%|██████████| 60/60 [00:00<00:00, 93.32it/s]\n",
      " 17%|█▋        | 20/120 [00:00<00:01, 94.11it/s]"
     ]
    },
    {
     "name": "stdout",
     "output_type": "stream",
     "text": [
      "ID 85 из 275\n"
     ]
    },
    {
     "name": "stderr",
     "output_type": "stream",
     "text": [
      "100%|██████████| 120/120 [00:01<00:00, 90.10it/s]\n",
      " 27%|██▋       | 20/74 [00:00<00:00, 93.76it/s]"
     ]
    },
    {
     "name": "stdout",
     "output_type": "stream",
     "text": [
      "ID 86 из 275\n"
     ]
    },
    {
     "name": "stderr",
     "output_type": "stream",
     "text": [
      "100%|██████████| 74/74 [00:00<00:00, 93.20it/s]\n",
      " 12%|█▏        | 20/171 [00:00<00:01, 94.11it/s]"
     ]
    },
    {
     "name": "stdout",
     "output_type": "stream",
     "text": [
      "ID 87 из 275\n"
     ]
    },
    {
     "name": "stderr",
     "output_type": "stream",
     "text": [
      "100%|██████████| 171/171 [00:01<00:00, 94.28it/s]\n",
      " 12%|█▏        | 19/153 [00:00<00:01, 90.53it/s]"
     ]
    },
    {
     "name": "stdout",
     "output_type": "stream",
     "text": [
      "ID 88 из 275\n"
     ]
    },
    {
     "name": "stderr",
     "output_type": "stream",
     "text": [
      "100%|██████████| 153/153 [00:01<00:00, 94.27it/s]\n",
      " 12%|█▏        | 20/169 [00:00<00:01, 95.27it/s]"
     ]
    },
    {
     "name": "stdout",
     "output_type": "stream",
     "text": [
      "ID 89 из 275\n"
     ]
    },
    {
     "name": "stderr",
     "output_type": "stream",
     "text": [
      "100%|██████████| 169/169 [00:01<00:00, 94.29it/s]\n",
      "  9%|▊         | 20/230 [00:00<00:02, 96.19it/s]"
     ]
    },
    {
     "name": "stdout",
     "output_type": "stream",
     "text": [
      "ID 90 из 275\n"
     ]
    },
    {
     "name": "stderr",
     "output_type": "stream",
     "text": [
      "100%|██████████| 230/230 [00:02<00:00, 90.37it/s]\n",
      "  9%|▉         | 10/112 [00:00<00:01, 95.60it/s]"
     ]
    },
    {
     "name": "stdout",
     "output_type": "stream",
     "text": [
      "ID 91 из 275\n"
     ]
    },
    {
     "name": "stderr",
     "output_type": "stream",
     "text": [
      "100%|██████████| 112/112 [00:01<00:00, 94.48it/s]\n",
      " 22%|██▏       | 20/89 [00:00<00:00, 94.93it/s]"
     ]
    },
    {
     "name": "stdout",
     "output_type": "stream",
     "text": [
      "ID 92 из 275\n"
     ]
    },
    {
     "name": "stderr",
     "output_type": "stream",
     "text": [
      "100%|██████████| 89/89 [00:00<00:00, 92.69it/s]\n",
      " 14%|█▍        | 10/70 [00:00<00:00, 93.33it/s]"
     ]
    },
    {
     "name": "stdout",
     "output_type": "stream",
     "text": [
      "ID 93 из 275\n"
     ]
    },
    {
     "name": "stderr",
     "output_type": "stream",
     "text": [
      "100%|██████████| 70/70 [00:00<00:00, 91.75it/s]\n",
      " 11%|█         | 10/90 [00:00<00:00, 90.69it/s]"
     ]
    },
    {
     "name": "stdout",
     "output_type": "stream",
     "text": [
      "ID 96 из 275\n"
     ]
    },
    {
     "name": "stderr",
     "output_type": "stream",
     "text": [
      "100%|██████████| 90/90 [00:00<00:00, 93.46it/s]\n",
      " 10%|█         | 10/96 [00:00<00:00, 93.07it/s]"
     ]
    },
    {
     "name": "stdout",
     "output_type": "stream",
     "text": [
      "ID 97 из 275\n"
     ]
    },
    {
     "name": "stderr",
     "output_type": "stream",
     "text": [
      "100%|██████████| 96/96 [00:01<00:00, 90.22it/s]\n",
      "  8%|▊         | 10/118 [00:00<00:01, 91.05it/s]"
     ]
    },
    {
     "name": "stdout",
     "output_type": "stream",
     "text": [
      "ID 99 из 275\n"
     ]
    },
    {
     "name": "stderr",
     "output_type": "stream",
     "text": [
      "100%|██████████| 118/118 [00:01<00:00, 93.31it/s]\n",
      " 30%|███       | 19/63 [00:00<00:00, 88.88it/s]"
     ]
    },
    {
     "name": "stdout",
     "output_type": "stream",
     "text": [
      "ID 100 из 275\n"
     ]
    },
    {
     "name": "stderr",
     "output_type": "stream",
     "text": [
      "100%|██████████| 63/63 [00:00<00:00, 89.48it/s]\n",
      "  9%|▉         | 8/89 [00:00<00:01, 77.01it/s]"
     ]
    },
    {
     "name": "stdout",
     "output_type": "stream",
     "text": [
      "ID 101 из 275\n"
     ]
    },
    {
     "name": "stderr",
     "output_type": "stream",
     "text": [
      "100%|██████████| 89/89 [00:01<00:00, 87.80it/s]\n",
      " 13%|█▎        | 10/76 [00:00<00:00, 94.55it/s]"
     ]
    },
    {
     "name": "stdout",
     "output_type": "stream",
     "text": [
      "ID 102 из 275\n"
     ]
    },
    {
     "name": "stderr",
     "output_type": "stream",
     "text": [
      "100%|██████████| 76/76 [00:00<00:00, 93.99it/s]\n",
      "  6%|▋         | 10/160 [00:00<00:01, 95.97it/s]"
     ]
    },
    {
     "name": "stdout",
     "output_type": "stream",
     "text": [
      "ID 103 из 275\n"
     ]
    },
    {
     "name": "stderr",
     "output_type": "stream",
     "text": [
      "100%|██████████| 160/160 [00:01<00:00, 95.34it/s]\n",
      "  8%|▊         | 10/125 [00:00<00:01, 93.27it/s]"
     ]
    },
    {
     "name": "stdout",
     "output_type": "stream",
     "text": [
      "ID 104 из 275\n"
     ]
    },
    {
     "name": "stderr",
     "output_type": "stream",
     "text": [
      "100%|██████████| 125/125 [00:01<00:00, 92.97it/s]\n",
      "  1%|          | 10/1311 [00:00<00:14, 92.64it/s]"
     ]
    },
    {
     "name": "stdout",
     "output_type": "stream",
     "text": [
      "ID 107 из 275\n"
     ]
    },
    {
     "name": "stderr",
     "output_type": "stream",
     "text": [
      "100%|██████████| 1311/1311 [00:13<00:00, 94.34it/s]\n",
      "  1%|          | 10/1317 [00:00<00:13, 94.54it/s]"
     ]
    },
    {
     "name": "stdout",
     "output_type": "stream",
     "text": [
      "ID 108 из 275\n"
     ]
    },
    {
     "name": "stderr",
     "output_type": "stream",
     "text": [
      "100%|██████████| 1317/1317 [00:13<00:00, 94.53it/s]\n",
      "  1%|▏         | 10/797 [00:00<00:08, 95.92it/s]"
     ]
    },
    {
     "name": "stdout",
     "output_type": "stream",
     "text": [
      "ID 109 из 275\n"
     ]
    },
    {
     "name": "stderr",
     "output_type": "stream",
     "text": [
      "100%|██████████| 797/797 [00:08<00:00, 93.80it/s]\n",
      "  9%|▊         | 10/115 [00:00<00:01, 93.69it/s]"
     ]
    },
    {
     "name": "stdout",
     "output_type": "stream",
     "text": [
      "ID 110 из 275\n"
     ]
    },
    {
     "name": "stderr",
     "output_type": "stream",
     "text": [
      "100%|██████████| 115/115 [00:01<00:00, 94.36it/s]\n",
      "  7%|▋         | 10/144 [00:00<00:01, 98.30it/s]"
     ]
    },
    {
     "name": "stdout",
     "output_type": "stream",
     "text": [
      "ID 111 из 275\n"
     ]
    },
    {
     "name": "stderr",
     "output_type": "stream",
     "text": [
      "100%|██████████| 144/144 [00:01<00:00, 94.62it/s]\n",
      "  7%|▋         | 10/139 [00:00<00:01, 92.24it/s]"
     ]
    },
    {
     "name": "stdout",
     "output_type": "stream",
     "text": [
      "ID 112 из 275\n"
     ]
    },
    {
     "name": "stderr",
     "output_type": "stream",
     "text": [
      "100%|██████████| 139/139 [00:01<00:00, 94.76it/s]\n",
      "  6%|▌         | 10/174 [00:00<00:01, 97.45it/s]"
     ]
    },
    {
     "name": "stdout",
     "output_type": "stream",
     "text": [
      "ID 113 из 275\n"
     ]
    },
    {
     "name": "stderr",
     "output_type": "stream",
     "text": [
      "100%|██████████| 174/174 [00:01<00:00, 96.05it/s]\n",
      " 11%|█         | 20/188 [00:00<00:01, 92.42it/s]"
     ]
    },
    {
     "name": "stdout",
     "output_type": "stream",
     "text": [
      "ID 115 из 275\n"
     ]
    },
    {
     "name": "stderr",
     "output_type": "stream",
     "text": [
      "100%|██████████| 188/188 [00:01<00:00, 94.55it/s]\n",
      "  9%|▉         | 20/223 [00:00<00:02, 93.99it/s]"
     ]
    },
    {
     "name": "stdout",
     "output_type": "stream",
     "text": [
      "ID 116 из 275\n"
     ]
    },
    {
     "name": "stderr",
     "output_type": "stream",
     "text": [
      "100%|██████████| 223/223 [00:02<00:00, 92.96it/s]\n",
      " 10%|█         | 10/100 [00:00<00:00, 96.59it/s]"
     ]
    },
    {
     "name": "stdout",
     "output_type": "stream",
     "text": [
      "ID 117 из 275\n"
     ]
    },
    {
     "name": "stderr",
     "output_type": "stream",
     "text": [
      "100%|██████████| 100/100 [00:01<00:00, 95.65it/s]\n",
      " 15%|█▌        | 19/125 [00:00<00:01, 92.56it/s]"
     ]
    },
    {
     "name": "stdout",
     "output_type": "stream",
     "text": [
      "ID 118 из 275\n"
     ]
    },
    {
     "name": "stderr",
     "output_type": "stream",
     "text": [
      "100%|██████████| 125/125 [00:01<00:00, 94.63it/s]\n",
      " 14%|█▍        | 20/142 [00:00<00:01, 97.02it/s]"
     ]
    },
    {
     "name": "stdout",
     "output_type": "stream",
     "text": [
      "ID 119 из 275\n"
     ]
    },
    {
     "name": "stderr",
     "output_type": "stream",
     "text": [
      "100%|██████████| 142/142 [00:01<00:00, 92.92it/s]\n",
      " 22%|██▏       | 10/46 [00:00<00:00, 96.27it/s]"
     ]
    },
    {
     "name": "stdout",
     "output_type": "stream",
     "text": [
      "ID 121 из 275\n"
     ]
    },
    {
     "name": "stderr",
     "output_type": "stream",
     "text": [
      "100%|██████████| 46/46 [00:00<00:00, 90.59it/s]\n",
      "  9%|▉         | 17/188 [00:00<00:02, 83.54it/s]"
     ]
    },
    {
     "name": "stdout",
     "output_type": "stream",
     "text": [
      "ID 122 из 275\n"
     ]
    },
    {
     "name": "stderr",
     "output_type": "stream",
     "text": [
      "100%|██████████| 188/188 [00:02<00:00, 92.64it/s]\n",
      "  8%|▊         | 20/238 [00:00<00:02, 95.04it/s]"
     ]
    },
    {
     "name": "stdout",
     "output_type": "stream",
     "text": [
      "ID 123 из 275\n"
     ]
    },
    {
     "name": "stderr",
     "output_type": "stream",
     "text": [
      "100%|██████████| 238/238 [00:02<00:00, 93.17it/s]\n",
      "  5%|▌         | 10/189 [00:00<00:01, 91.82it/s]"
     ]
    },
    {
     "name": "stdout",
     "output_type": "stream",
     "text": [
      "ID 124 из 275\n"
     ]
    },
    {
     "name": "stderr",
     "output_type": "stream",
     "text": [
      "100%|██████████| 189/189 [00:02<00:00, 94.05it/s]\n",
      " 45%|████▌     | 10/22 [00:00<00:00, 94.17it/s]"
     ]
    },
    {
     "name": "stdout",
     "output_type": "stream",
     "text": [
      "ID 126 из 275\n"
     ]
    },
    {
     "name": "stderr",
     "output_type": "stream",
     "text": [
      "100%|██████████| 22/22 [00:00<00:00, 93.20it/s]\n",
      " 12%|█▏        | 20/165 [00:00<00:01, 92.44it/s]"
     ]
    },
    {
     "name": "stdout",
     "output_type": "stream",
     "text": [
      "ID 128 из 275\n"
     ]
    },
    {
     "name": "stderr",
     "output_type": "stream",
     "text": [
      "100%|██████████| 165/165 [00:01<00:00, 93.80it/s]\n",
      " 11%|█▏        | 20/177 [00:00<00:01, 96.14it/s]"
     ]
    },
    {
     "name": "stdout",
     "output_type": "stream",
     "text": [
      "ID 129 из 275\n"
     ]
    },
    {
     "name": "stderr",
     "output_type": "stream",
     "text": [
      "100%|██████████| 177/177 [00:01<00:00, 96.23it/s]\n",
      " 21%|██        | 10/48 [00:00<00:00, 95.37it/s]"
     ]
    },
    {
     "name": "stdout",
     "output_type": "stream",
     "text": [
      "ID 130 из 275\n"
     ]
    },
    {
     "name": "stderr",
     "output_type": "stream",
     "text": [
      "100%|██████████| 48/48 [00:00<00:00, 94.36it/s]\n",
      " 11%|█         | 19/179 [00:00<00:01, 90.67it/s]"
     ]
    },
    {
     "name": "stdout",
     "output_type": "stream",
     "text": [
      "ID 131 из 275\n"
     ]
    },
    {
     "name": "stderr",
     "output_type": "stream",
     "text": [
      "100%|██████████| 179/179 [00:01<00:00, 93.87it/s]\n",
      "  1%|          | 20/3075 [00:00<00:32, 95.15it/s]"
     ]
    },
    {
     "name": "stdout",
     "output_type": "stream",
     "text": [
      "ID 132 из 275\n"
     ]
    },
    {
     "name": "stderr",
     "output_type": "stream",
     "text": [
      "100%|██████████| 3075/3075 [00:35<00:00, 87.39it/s]\n",
      " 27%|██▋       | 10/37 [00:00<00:00, 94.39it/s]"
     ]
    },
    {
     "name": "stdout",
     "output_type": "stream",
     "text": [
      "ID 133 из 275\n"
     ]
    },
    {
     "name": "stderr",
     "output_type": "stream",
     "text": [
      "100%|██████████| 37/37 [00:00<00:00, 89.38it/s]\n",
      "  9%|▉         | 10/114 [00:00<00:01, 95.28it/s]"
     ]
    },
    {
     "name": "stdout",
     "output_type": "stream",
     "text": [
      "ID 134 из 275\n"
     ]
    },
    {
     "name": "stderr",
     "output_type": "stream",
     "text": [
      "100%|██████████| 114/114 [00:01<00:00, 95.39it/s]\n",
      "  2%|▏         | 10/613 [00:00<00:06, 95.61it/s]"
     ]
    },
    {
     "name": "stdout",
     "output_type": "stream",
     "text": [
      "ID 136 из 275\n"
     ]
    },
    {
     "name": "stderr",
     "output_type": "stream",
     "text": [
      "100%|██████████| 613/613 [00:06<00:00, 94.67it/s]\n",
      "  1%|▏         | 19/1326 [00:00<00:14, 90.81it/s]"
     ]
    },
    {
     "name": "stdout",
     "output_type": "stream",
     "text": [
      "ID 137 из 275\n"
     ]
    },
    {
     "name": "stderr",
     "output_type": "stream",
     "text": [
      "100%|██████████| 1326/1326 [00:14<00:00, 94.38it/s]\n",
      "  5%|▍         | 10/222 [00:00<00:02, 91.24it/s]"
     ]
    },
    {
     "name": "stdout",
     "output_type": "stream",
     "text": [
      "ID 138 из 275\n"
     ]
    },
    {
     "name": "stderr",
     "output_type": "stream",
     "text": [
      "100%|██████████| 222/222 [00:02<00:00, 93.23it/s]\n",
      " 12%|█▏        | 19/165 [00:00<00:01, 91.66it/s]"
     ]
    },
    {
     "name": "stdout",
     "output_type": "stream",
     "text": [
      "ID 139 из 275\n"
     ]
    },
    {
     "name": "stderr",
     "output_type": "stream",
     "text": [
      "100%|██████████| 165/165 [00:01<00:00, 94.29it/s]\n",
      "  6%|▌         | 9/160 [00:00<00:01, 89.96it/s]"
     ]
    },
    {
     "name": "stdout",
     "output_type": "stream",
     "text": [
      "ID 140 из 275\n"
     ]
    },
    {
     "name": "stderr",
     "output_type": "stream",
     "text": [
      "100%|██████████| 160/160 [00:01<00:00, 94.36it/s]\n",
      " 12%|█▎        | 10/80 [00:00<00:00, 96.31it/s]"
     ]
    },
    {
     "name": "stdout",
     "output_type": "stream",
     "text": [
      "ID 143 из 275\n"
     ]
    },
    {
     "name": "stderr",
     "output_type": "stream",
     "text": [
      "100%|██████████| 80/80 [00:00<00:00, 91.38it/s]\n",
      " 16%|█▋        | 10/61 [00:00<00:00, 94.56it/s]"
     ]
    },
    {
     "name": "stdout",
     "output_type": "stream",
     "text": [
      "ID 144 из 275\n"
     ]
    },
    {
     "name": "stderr",
     "output_type": "stream",
     "text": [
      "100%|██████████| 61/61 [00:00<00:00, 93.73it/s]\n",
      "  9%|▊         | 19/220 [00:00<00:02, 89.77it/s]"
     ]
    },
    {
     "name": "stdout",
     "output_type": "stream",
     "text": [
      "ID 146 из 275\n"
     ]
    },
    {
     "name": "stderr",
     "output_type": "stream",
     "text": [
      "100%|██████████| 220/220 [00:02<00:00, 89.28it/s]\n",
      " 10%|█         | 19/189 [00:00<00:01, 87.48it/s]"
     ]
    },
    {
     "name": "stdout",
     "output_type": "stream",
     "text": [
      "ID 147 из 275\n"
     ]
    },
    {
     "name": "stderr",
     "output_type": "stream",
     "text": [
      "100%|██████████| 189/189 [00:01<00:00, 94.83it/s]\n",
      "  3%|▎         | 10/348 [00:00<00:03, 91.61it/s]"
     ]
    },
    {
     "name": "stdout",
     "output_type": "stream",
     "text": [
      "ID 148 из 275\n"
     ]
    },
    {
     "name": "stderr",
     "output_type": "stream",
     "text": [
      "100%|██████████| 348/348 [00:03<00:00, 95.16it/s]\n",
      "  7%|▋         | 20/304 [00:00<00:03, 92.71it/s]"
     ]
    },
    {
     "name": "stdout",
     "output_type": "stream",
     "text": [
      "ID 149 из 275\n"
     ]
    },
    {
     "name": "stderr",
     "output_type": "stream",
     "text": [
      "100%|██████████| 304/304 [00:03<00:00, 93.97it/s]\n",
      "  4%|▍         | 20/489 [00:00<00:05, 92.34it/s]"
     ]
    },
    {
     "name": "stdout",
     "output_type": "stream",
     "text": [
      "ID 150 из 275\n"
     ]
    },
    {
     "name": "stderr",
     "output_type": "stream",
     "text": [
      "100%|██████████| 489/489 [00:05<00:00, 88.91it/s]\n",
      "  9%|▉         | 18/201 [00:00<00:02, 84.17it/s]"
     ]
    },
    {
     "name": "stdout",
     "output_type": "stream",
     "text": [
      "ID 151 из 275\n"
     ]
    },
    {
     "name": "stderr",
     "output_type": "stream",
     "text": [
      "100%|██████████| 201/201 [00:02<00:00, 89.92it/s]\n",
      " 10%|▉         | 10/104 [00:00<00:00, 96.43it/s]"
     ]
    },
    {
     "name": "stdout",
     "output_type": "stream",
     "text": [
      "ID 152 из 275\n"
     ]
    },
    {
     "name": "stderr",
     "output_type": "stream",
     "text": [
      "100%|██████████| 104/104 [00:01<00:00, 90.04it/s]\n",
      "  7%|▋         | 10/134 [00:00<00:01, 91.74it/s]"
     ]
    },
    {
     "name": "stdout",
     "output_type": "stream",
     "text": [
      "ID 153 из 275\n"
     ]
    },
    {
     "name": "stderr",
     "output_type": "stream",
     "text": [
      "100%|██████████| 134/134 [00:01<00:00, 92.49it/s]\n",
      "  2%|▏         | 10/415 [00:00<00:04, 94.82it/s]"
     ]
    },
    {
     "name": "stdout",
     "output_type": "stream",
     "text": [
      "ID 155 из 275\n"
     ]
    },
    {
     "name": "stderr",
     "output_type": "stream",
     "text": [
      "100%|██████████| 415/415 [00:04<00:00, 95.08it/s]\n",
      "  2%|▏         | 20/1177 [00:00<00:12, 95.48it/s]"
     ]
    },
    {
     "name": "stdout",
     "output_type": "stream",
     "text": [
      "ID 156 из 275\n"
     ]
    },
    {
     "name": "stderr",
     "output_type": "stream",
     "text": [
      "100%|██████████| 1177/1177 [00:12<00:00, 94.36it/s]\n",
      "  5%|▌         | 18/335 [00:00<00:03, 83.44it/s]"
     ]
    },
    {
     "name": "stdout",
     "output_type": "stream",
     "text": [
      "ID 158 из 275\n"
     ]
    },
    {
     "name": "stderr",
     "output_type": "stream",
     "text": [
      "100%|██████████| 335/335 [00:03<00:00, 88.30it/s]\n",
      "  2%|▏         | 10/643 [00:00<00:06, 96.20it/s]"
     ]
    },
    {
     "name": "stdout",
     "output_type": "stream",
     "text": [
      "ID 159 из 275\n"
     ]
    },
    {
     "name": "stderr",
     "output_type": "stream",
     "text": [
      "100%|██████████| 643/643 [00:06<00:00, 92.87it/s]\n",
      "  8%|▊         | 9/107 [00:00<00:01, 78.70it/s]"
     ]
    },
    {
     "name": "stdout",
     "output_type": "stream",
     "text": [
      "ID 160 из 275\n"
     ]
    },
    {
     "name": "stderr",
     "output_type": "stream",
     "text": [
      "100%|██████████| 107/107 [00:01<00:00, 89.11it/s]\n",
      "  7%|▋         | 9/126 [00:00<00:01, 86.07it/s]"
     ]
    },
    {
     "name": "stdout",
     "output_type": "stream",
     "text": [
      "ID 161 из 275\n"
     ]
    },
    {
     "name": "stderr",
     "output_type": "stream",
     "text": [
      "100%|██████████| 126/126 [00:01<00:00, 92.51it/s]\n",
      "  5%|▌         | 10/188 [00:00<00:01, 96.91it/s]"
     ]
    },
    {
     "name": "stdout",
     "output_type": "stream",
     "text": [
      "ID 162 из 275\n"
     ]
    },
    {
     "name": "stderr",
     "output_type": "stream",
     "text": [
      "100%|██████████| 188/188 [00:01<00:00, 95.04it/s]\n",
      "  1%|          | 9/1145 [00:00<00:12, 89.25it/s]"
     ]
    },
    {
     "name": "stdout",
     "output_type": "stream",
     "text": [
      "ID 163 из 275\n"
     ]
    },
    {
     "name": "stderr",
     "output_type": "stream",
     "text": [
      "100%|██████████| 1145/1145 [00:12<00:00, 93.30it/s]\n",
      "  2%|▏         | 18/1166 [00:00<00:14, 81.17it/s]"
     ]
    },
    {
     "name": "stdout",
     "output_type": "stream",
     "text": [
      "ID 164 из 275\n"
     ]
    },
    {
     "name": "stderr",
     "output_type": "stream",
     "text": [
      "100%|██████████| 1166/1166 [00:12<00:00, 94.22it/s]\n",
      "  0%|          | 9/3651 [00:00<00:41, 86.98it/s]"
     ]
    },
    {
     "name": "stdout",
     "output_type": "stream",
     "text": [
      "ID 167 из 275\n"
     ]
    },
    {
     "name": "stderr",
     "output_type": "stream",
     "text": [
      "100%|██████████| 3651/3651 [00:40<00:00, 90.36it/s]\n",
      " 28%|██▊       | 20/72 [00:00<00:00, 93.67it/s]"
     ]
    },
    {
     "name": "stdout",
     "output_type": "stream",
     "text": [
      "ID 169 из 275\n"
     ]
    },
    {
     "name": "stderr",
     "output_type": "stream",
     "text": [
      "100%|██████████| 72/72 [00:00<00:00, 93.92it/s]\n",
      " 29%|██▉       | 19/65 [00:00<00:00, 93.87it/s]"
     ]
    },
    {
     "name": "stdout",
     "output_type": "stream",
     "text": [
      "ID 170 из 275\n"
     ]
    },
    {
     "name": "stderr",
     "output_type": "stream",
     "text": [
      "100%|██████████| 65/65 [00:00<00:00, 94.35it/s]\n",
      " 12%|█▏        | 10/83 [00:00<00:00, 92.57it/s]"
     ]
    },
    {
     "name": "stdout",
     "output_type": "stream",
     "text": [
      "ID 172 из 275\n"
     ]
    },
    {
     "name": "stderr",
     "output_type": "stream",
     "text": [
      "100%|██████████| 83/83 [00:00<00:00, 91.58it/s]\n",
      "  4%|▍         | 10/227 [00:00<00:02, 92.50it/s]"
     ]
    },
    {
     "name": "stdout",
     "output_type": "stream",
     "text": [
      "ID 173 из 275\n"
     ]
    },
    {
     "name": "stderr",
     "output_type": "stream",
     "text": [
      "100%|██████████| 227/227 [00:02<00:00, 93.52it/s]\n",
      "  6%|▌         | 20/345 [00:00<00:03, 92.66it/s]"
     ]
    },
    {
     "name": "stdout",
     "output_type": "stream",
     "text": [
      "ID 174 из 275\n"
     ]
    },
    {
     "name": "stderr",
     "output_type": "stream",
     "text": [
      "100%|██████████| 345/345 [00:03<00:00, 93.50it/s]\n",
      " 22%|██▏       | 20/93 [00:00<00:00, 93.75it/s]"
     ]
    },
    {
     "name": "stdout",
     "output_type": "stream",
     "text": [
      "ID 177 из 275\n"
     ]
    },
    {
     "name": "stderr",
     "output_type": "stream",
     "text": [
      "100%|██████████| 93/93 [00:01<00:00, 91.17it/s]\n",
      " 13%|█▎        | 10/77 [00:00<00:00, 93.36it/s]"
     ]
    },
    {
     "name": "stdout",
     "output_type": "stream",
     "text": [
      "ID 178 из 275\n"
     ]
    },
    {
     "name": "stderr",
     "output_type": "stream",
     "text": [
      "100%|██████████| 77/77 [00:00<00:00, 91.28it/s]\n",
      "  7%|▋         | 9/131 [00:00<00:01, 89.65it/s]"
     ]
    },
    {
     "name": "stdout",
     "output_type": "stream",
     "text": [
      "ID 179 из 275\n"
     ]
    },
    {
     "name": "stderr",
     "output_type": "stream",
     "text": [
      "100%|██████████| 131/131 [00:01<00:00, 89.54it/s]\n",
      " 17%|█▋        | 20/118 [00:00<00:01, 94.77it/s]"
     ]
    },
    {
     "name": "stdout",
     "output_type": "stream",
     "text": [
      "ID 180 из 275\n"
     ]
    },
    {
     "name": "stderr",
     "output_type": "stream",
     "text": [
      "100%|██████████| 118/118 [00:01<00:00, 92.29it/s]\n",
      " 14%|█▍        | 9/63 [00:00<00:00, 88.18it/s]"
     ]
    },
    {
     "name": "stdout",
     "output_type": "stream",
     "text": [
      "ID 182 из 275\n"
     ]
    },
    {
     "name": "stderr",
     "output_type": "stream",
     "text": [
      "100%|██████████| 63/63 [00:00<00:00, 92.27it/s]\n",
      " 10%|▉         | 20/207 [00:00<00:01, 93.89it/s]"
     ]
    },
    {
     "name": "stdout",
     "output_type": "stream",
     "text": [
      "ID 185 из 275\n"
     ]
    },
    {
     "name": "stderr",
     "output_type": "stream",
     "text": [
      "100%|██████████| 207/207 [00:02<00:00, 93.87it/s]\n",
      " 36%|███▋      | 20/55 [00:00<00:00, 92.93it/s]"
     ]
    },
    {
     "name": "stdout",
     "output_type": "stream",
     "text": [
      "ID 186 из 275\n"
     ]
    },
    {
     "name": "stderr",
     "output_type": "stream",
     "text": [
      "100%|██████████| 55/55 [00:00<00:00, 91.23it/s]\n",
      "  8%|▊         | 9/108 [00:00<00:01, 86.74it/s]"
     ]
    },
    {
     "name": "stdout",
     "output_type": "stream",
     "text": [
      "ID 187 из 275\n"
     ]
    },
    {
     "name": "stderr",
     "output_type": "stream",
     "text": [
      "100%|██████████| 108/108 [00:01<00:00, 92.12it/s]\n",
      " 21%|██        | 19/91 [00:00<00:00, 93.43it/s]"
     ]
    },
    {
     "name": "stdout",
     "output_type": "stream",
     "text": [
      "ID 188 из 275\n"
     ]
    },
    {
     "name": "stderr",
     "output_type": "stream",
     "text": [
      "100%|██████████| 91/91 [00:00<00:00, 93.89it/s]\n",
      " 14%|█▍        | 10/69 [00:00<00:00, 97.71it/s]"
     ]
    },
    {
     "name": "stdout",
     "output_type": "stream",
     "text": [
      "ID 190 из 275\n"
     ]
    },
    {
     "name": "stderr",
     "output_type": "stream",
     "text": [
      "100%|██████████| 69/69 [00:00<00:00, 92.56it/s]\n",
      "  7%|▋         | 10/151 [00:00<00:01, 91.39it/s]"
     ]
    },
    {
     "name": "stdout",
     "output_type": "stream",
     "text": [
      "ID 191 из 275\n"
     ]
    },
    {
     "name": "stderr",
     "output_type": "stream",
     "text": [
      "100%|██████████| 151/151 [00:01<00:00, 95.23it/s]\n",
      " 18%|█▊        | 10/57 [00:00<00:00, 95.64it/s]"
     ]
    },
    {
     "name": "stdout",
     "output_type": "stream",
     "text": [
      "ID 193 из 275\n"
     ]
    },
    {
     "name": "stderr",
     "output_type": "stream",
     "text": [
      "100%|██████████| 57/57 [00:00<00:00, 92.74it/s]\n",
      "  5%|▍         | 10/206 [00:00<00:02, 93.72it/s]"
     ]
    },
    {
     "name": "stdout",
     "output_type": "stream",
     "text": [
      "ID 194 из 275\n"
     ]
    },
    {
     "name": "stderr",
     "output_type": "stream",
     "text": [
      "100%|██████████| 206/206 [00:02<00:00, 93.82it/s]\n",
      " 12%|█▏        | 20/172 [00:00<00:01, 92.52it/s]"
     ]
    },
    {
     "name": "stdout",
     "output_type": "stream",
     "text": [
      "ID 195 из 275\n"
     ]
    },
    {
     "name": "stderr",
     "output_type": "stream",
     "text": [
      "100%|██████████| 172/172 [00:01<00:00, 91.41it/s]\n",
      " 15%|█▍        | 19/128 [00:00<00:01, 89.35it/s]"
     ]
    },
    {
     "name": "stdout",
     "output_type": "stream",
     "text": [
      "ID 196 из 275\n"
     ]
    },
    {
     "name": "stderr",
     "output_type": "stream",
     "text": [
      "100%|██████████| 128/128 [00:01<00:00, 89.21it/s]\n",
      " 12%|█▏        | 20/171 [00:00<00:01, 95.31it/s]"
     ]
    },
    {
     "name": "stdout",
     "output_type": "stream",
     "text": [
      "ID 197 из 275\n"
     ]
    },
    {
     "name": "stderr",
     "output_type": "stream",
     "text": [
      "100%|██████████| 171/171 [00:01<00:00, 95.50it/s]\n",
      "  5%|▌         | 10/200 [00:00<00:02, 92.50it/s]"
     ]
    },
    {
     "name": "stdout",
     "output_type": "stream",
     "text": [
      "ID 199 из 275\n"
     ]
    },
    {
     "name": "stderr",
     "output_type": "stream",
     "text": [
      "100%|██████████| 200/200 [00:02<00:00, 91.41it/s]\n",
      " 11%|█         | 20/178 [00:00<00:01, 90.97it/s]"
     ]
    },
    {
     "name": "stdout",
     "output_type": "stream",
     "text": [
      "ID 201 из 275\n"
     ]
    },
    {
     "name": "stderr",
     "output_type": "stream",
     "text": [
      "100%|██████████| 178/178 [00:01<00:00, 92.86it/s]\n",
      "  3%|▎         | 10/390 [00:00<00:04, 93.79it/s]"
     ]
    },
    {
     "name": "stdout",
     "output_type": "stream",
     "text": [
      "ID 202 из 275\n"
     ]
    },
    {
     "name": "stderr",
     "output_type": "stream",
     "text": [
      "100%|██████████| 390/390 [00:04<00:00, 93.93it/s]\n",
      "  6%|▌         | 10/175 [00:00<00:01, 93.61it/s]"
     ]
    },
    {
     "name": "stdout",
     "output_type": "stream",
     "text": [
      "ID 203 из 275\n"
     ]
    },
    {
     "name": "stderr",
     "output_type": "stream",
     "text": [
      "100%|██████████| 175/175 [00:01<00:00, 93.89it/s]\n",
      "  6%|▌         | 10/162 [00:00<00:01, 94.10it/s]"
     ]
    },
    {
     "name": "stdout",
     "output_type": "stream",
     "text": [
      "ID 204 из 275\n"
     ]
    },
    {
     "name": "stderr",
     "output_type": "stream",
     "text": [
      "100%|██████████| 162/162 [00:01<00:00, 94.16it/s]\n",
      "  8%|▊         | 9/109 [00:00<00:01, 89.54it/s]"
     ]
    },
    {
     "name": "stdout",
     "output_type": "stream",
     "text": [
      "ID 205 из 275\n"
     ]
    },
    {
     "name": "stderr",
     "output_type": "stream",
     "text": [
      "100%|██████████| 109/109 [00:01<00:00, 90.69it/s]\n",
      " 22%|██▏       | 20/91 [00:00<00:00, 93.46it/s]"
     ]
    },
    {
     "name": "stdout",
     "output_type": "stream",
     "text": [
      "ID 206 из 275\n"
     ]
    },
    {
     "name": "stderr",
     "output_type": "stream",
     "text": [
      "100%|██████████| 91/91 [00:01<00:00, 90.43it/s]\n",
      "  9%|▉         | 10/111 [00:00<00:01, 94.89it/s]"
     ]
    },
    {
     "name": "stdout",
     "output_type": "stream",
     "text": [
      "ID 207 из 275\n"
     ]
    },
    {
     "name": "stderr",
     "output_type": "stream",
     "text": [
      "100%|██████████| 111/111 [00:01<00:00, 92.56it/s]\n",
      "  7%|▋         | 10/146 [00:00<00:01, 96.22it/s]"
     ]
    },
    {
     "name": "stdout",
     "output_type": "stream",
     "text": [
      "ID 208 из 275\n"
     ]
    },
    {
     "name": "stderr",
     "output_type": "stream",
     "text": [
      "100%|██████████| 146/146 [00:01<00:00, 93.74it/s]\n",
      " 17%|█▋        | 19/114 [00:00<00:01, 90.18it/s]"
     ]
    },
    {
     "name": "stdout",
     "output_type": "stream",
     "text": [
      "ID 209 из 275\n"
     ]
    },
    {
     "name": "stderr",
     "output_type": "stream",
     "text": [
      "100%|██████████| 114/114 [00:01<00:00, 90.21it/s]\n",
      "  7%|▋         | 10/134 [00:00<00:01, 95.70it/s]"
     ]
    },
    {
     "name": "stdout",
     "output_type": "stream",
     "text": [
      "ID 213 из 275\n"
     ]
    },
    {
     "name": "stderr",
     "output_type": "stream",
     "text": [
      "100%|██████████| 134/134 [00:01<00:00, 92.56it/s]\n",
      "  2%|▏         | 10/415 [00:00<00:04, 95.49it/s]"
     ]
    },
    {
     "name": "stdout",
     "output_type": "stream",
     "text": [
      "ID 214 из 275\n"
     ]
    },
    {
     "name": "stderr",
     "output_type": "stream",
     "text": [
      "100%|██████████| 415/415 [00:04<00:00, 93.92it/s]\n",
      " 13%|█▎        | 10/75 [00:00<00:00, 93.04it/s]"
     ]
    },
    {
     "name": "stdout",
     "output_type": "stream",
     "text": [
      "ID 215 из 275\n"
     ]
    },
    {
     "name": "stderr",
     "output_type": "stream",
     "text": [
      "100%|██████████| 75/75 [00:00<00:00, 94.49it/s]\n",
      "  4%|▍         | 9/216 [00:00<00:02, 84.46it/s]"
     ]
    },
    {
     "name": "stdout",
     "output_type": "stream",
     "text": [
      "ID 216 из 275\n"
     ]
    },
    {
     "name": "stderr",
     "output_type": "stream",
     "text": [
      "100%|██████████| 216/216 [00:02<00:00, 93.12it/s]\n",
      "  5%|▌         | 10/188 [00:00<00:01, 92.74it/s]"
     ]
    },
    {
     "name": "stdout",
     "output_type": "stream",
     "text": [
      "ID 217 из 275\n"
     ]
    },
    {
     "name": "stderr",
     "output_type": "stream",
     "text": [
      "100%|██████████| 188/188 [00:02<00:00, 87.78it/s]\n",
      "  1%|          | 18/1811 [00:00<00:20, 86.79it/s]"
     ]
    },
    {
     "name": "stdout",
     "output_type": "stream",
     "text": [
      "ID 219 из 275\n"
     ]
    },
    {
     "name": "stderr",
     "output_type": "stream",
     "text": [
      "100%|██████████| 1811/1811 [00:19<00:00, 94.27it/s]\n",
      "  6%|▌         | 20/329 [00:00<00:03, 93.14it/s]"
     ]
    },
    {
     "name": "stdout",
     "output_type": "stream",
     "text": [
      "ID 220 из 275\n"
     ]
    },
    {
     "name": "stderr",
     "output_type": "stream",
     "text": [
      "100%|██████████| 329/329 [00:03<00:00, 93.27it/s]\n",
      "  8%|▊         | 20/248 [00:00<00:02, 93.67it/s]"
     ]
    },
    {
     "name": "stdout",
     "output_type": "stream",
     "text": [
      "ID 222 из 275\n"
     ]
    },
    {
     "name": "stderr",
     "output_type": "stream",
     "text": [
      "100%|██████████| 248/248 [00:02<00:00, 94.84it/s]\n",
      "  4%|▍         | 9/237 [00:00<00:02, 87.25it/s]"
     ]
    },
    {
     "name": "stdout",
     "output_type": "stream",
     "text": [
      "ID 223 из 275\n"
     ]
    },
    {
     "name": "stderr",
     "output_type": "stream",
     "text": [
      "100%|██████████| 237/237 [00:02<00:00, 92.87it/s]\n",
      "  7%|▋         | 18/254 [00:00<00:02, 88.17it/s]"
     ]
    },
    {
     "name": "stdout",
     "output_type": "stream",
     "text": [
      "ID 224 из 275\n"
     ]
    },
    {
     "name": "stderr",
     "output_type": "stream",
     "text": [
      "100%|██████████| 254/254 [00:02<00:00, 92.61it/s]\n",
      " 10%|█         | 18/173 [00:00<00:01, 88.84it/s]"
     ]
    },
    {
     "name": "stdout",
     "output_type": "stream",
     "text": [
      "ID 225 из 275\n"
     ]
    },
    {
     "name": "stderr",
     "output_type": "stream",
     "text": [
      "100%|██████████| 173/173 [00:01<00:00, 89.08it/s]\n",
      "  5%|▌         | 10/182 [00:00<00:01, 94.52it/s]"
     ]
    },
    {
     "name": "stdout",
     "output_type": "stream",
     "text": [
      "ID 226 из 275\n"
     ]
    },
    {
     "name": "stderr",
     "output_type": "stream",
     "text": [
      "100%|██████████| 182/182 [00:01<00:00, 94.79it/s]\n",
      "  6%|▌         | 10/164 [00:00<00:01, 92.68it/s]"
     ]
    },
    {
     "name": "stdout",
     "output_type": "stream",
     "text": [
      "ID 228 из 275\n"
     ]
    },
    {
     "name": "stderr",
     "output_type": "stream",
     "text": [
      "100%|██████████| 164/164 [00:01<00:00, 93.94it/s]\n",
      " 13%|█▎        | 20/149 [00:00<00:01, 95.53it/s]"
     ]
    },
    {
     "name": "stdout",
     "output_type": "stream",
     "text": [
      "ID 229 из 275\n"
     ]
    },
    {
     "name": "stderr",
     "output_type": "stream",
     "text": [
      "100%|██████████| 149/149 [00:01<00:00, 93.90it/s]\n",
      "  7%|▋         | 10/151 [00:00<00:01, 92.20it/s]"
     ]
    },
    {
     "name": "stdout",
     "output_type": "stream",
     "text": [
      "ID 230 из 275\n"
     ]
    },
    {
     "name": "stderr",
     "output_type": "stream",
     "text": [
      "100%|██████████| 151/151 [00:01<00:00, 92.93it/s]\n",
      "  5%|▍         | 10/209 [00:00<00:02, 93.60it/s]"
     ]
    },
    {
     "name": "stdout",
     "output_type": "stream",
     "text": [
      "ID 231 из 275\n"
     ]
    },
    {
     "name": "stderr",
     "output_type": "stream",
     "text": [
      "100%|██████████| 209/209 [00:02<00:00, 93.34it/s]\n",
      "  3%|▎         | 19/627 [00:00<00:06, 87.59it/s]"
     ]
    },
    {
     "name": "stdout",
     "output_type": "stream",
     "text": [
      "ID 232 из 275\n"
     ]
    },
    {
     "name": "stderr",
     "output_type": "stream",
     "text": [
      "100%|██████████| 627/627 [00:06<00:00, 92.66it/s]\n",
      "  1%|          | 10/838 [00:00<00:08, 95.21it/s]"
     ]
    },
    {
     "name": "stdout",
     "output_type": "stream",
     "text": [
      "ID 233 из 275\n"
     ]
    },
    {
     "name": "stderr",
     "output_type": "stream",
     "text": [
      "100%|██████████| 838/838 [00:08<00:00, 94.06it/s]\n",
      " 10%|▉         | 20/202 [00:00<00:01, 92.97it/s]"
     ]
    },
    {
     "name": "stdout",
     "output_type": "stream",
     "text": [
      "ID 234 из 275\n"
     ]
    },
    {
     "name": "stderr",
     "output_type": "stream",
     "text": [
      "100%|██████████| 202/202 [00:02<00:00, 93.43it/s]\n",
      " 24%|██▍       | 10/41 [00:00<00:00, 91.11it/s]"
     ]
    },
    {
     "name": "stdout",
     "output_type": "stream",
     "text": [
      "ID 235 из 275\n"
     ]
    },
    {
     "name": "stderr",
     "output_type": "stream",
     "text": [
      "100%|██████████| 41/41 [00:00<00:00, 93.13it/s]\n",
      " 32%|███▏      | 19/60 [00:00<00:00, 92.01it/s]"
     ]
    },
    {
     "name": "stdout",
     "output_type": "stream",
     "text": [
      "ID 236 из 275\n"
     ]
    },
    {
     "name": "stderr",
     "output_type": "stream",
     "text": [
      "100%|██████████| 60/60 [00:00<00:00, 92.00it/s]\n",
      " 12%|█▏        | 20/161 [00:00<00:01, 92.92it/s]"
     ]
    },
    {
     "name": "stdout",
     "output_type": "stream",
     "text": [
      "ID 237 из 275\n"
     ]
    },
    {
     "name": "stderr",
     "output_type": "stream",
     "text": [
      "100%|██████████| 161/161 [00:01<00:00, 92.49it/s]\n",
      "  5%|▌         | 9/176 [00:00<00:01, 89.09it/s]"
     ]
    },
    {
     "name": "stdout",
     "output_type": "stream",
     "text": [
      "ID 238 из 275\n"
     ]
    },
    {
     "name": "stderr",
     "output_type": "stream",
     "text": [
      "100%|██████████| 176/176 [00:01<00:00, 89.67it/s]\n",
      " 25%|██▍       | 20/81 [00:00<00:00, 92.93it/s]"
     ]
    },
    {
     "name": "stdout",
     "output_type": "stream",
     "text": [
      "ID 239 из 275\n"
     ]
    },
    {
     "name": "stderr",
     "output_type": "stream",
     "text": [
      "100%|██████████| 81/81 [00:00<00:00, 92.97it/s]\n",
      "  2%|▏         | 10/550 [00:00<00:05, 91.60it/s]"
     ]
    },
    {
     "name": "stdout",
     "output_type": "stream",
     "text": [
      "ID 241 из 275\n"
     ]
    },
    {
     "name": "stderr",
     "output_type": "stream",
     "text": [
      "100%|██████████| 550/550 [00:05<00:00, 93.37it/s]\n",
      "  5%|▍         | 18/391 [00:00<00:04, 87.11it/s]"
     ]
    },
    {
     "name": "stdout",
     "output_type": "stream",
     "text": [
      "ID 242 из 275\n"
     ]
    },
    {
     "name": "stderr",
     "output_type": "stream",
     "text": [
      "100%|██████████| 391/391 [00:04<00:00, 93.82it/s]\n",
      "  5%|▌         | 10/192 [00:00<00:01, 96.72it/s]"
     ]
    },
    {
     "name": "stdout",
     "output_type": "stream",
     "text": [
      "ID 244 из 275\n"
     ]
    },
    {
     "name": "stderr",
     "output_type": "stream",
     "text": [
      "100%|██████████| 192/192 [00:02<00:00, 93.85it/s]\n",
      " 14%|█▍        | 10/70 [00:00<00:00, 93.39it/s]"
     ]
    },
    {
     "name": "stdout",
     "output_type": "stream",
     "text": [
      "ID 245 из 275\n"
     ]
    },
    {
     "name": "stderr",
     "output_type": "stream",
     "text": [
      "100%|██████████| 70/70 [00:00<00:00, 90.76it/s]\n",
      "  3%|▎         | 9/345 [00:00<00:03, 87.39it/s]"
     ]
    },
    {
     "name": "stdout",
     "output_type": "stream",
     "text": [
      "ID 246 из 275\n"
     ]
    },
    {
     "name": "stderr",
     "output_type": "stream",
     "text": [
      "100%|██████████| 345/345 [00:03<00:00, 87.69it/s]\n",
      " 10%|▉         | 20/208 [00:00<00:02, 91.55it/s]"
     ]
    },
    {
     "name": "stdout",
     "output_type": "stream",
     "text": [
      "ID 247 из 275\n"
     ]
    },
    {
     "name": "stderr",
     "output_type": "stream",
     "text": [
      "100%|██████████| 208/208 [00:02<00:00, 94.38it/s]\n",
      " 12%|█▏        | 10/83 [00:00<00:00, 92.46it/s]"
     ]
    },
    {
     "name": "stdout",
     "output_type": "stream",
     "text": [
      "ID 250 из 275\n"
     ]
    },
    {
     "name": "stderr",
     "output_type": "stream",
     "text": [
      "100%|██████████| 83/83 [00:00<00:00, 90.90it/s]\n",
      " 19%|█▉        | 19/100 [00:00<00:00, 88.08it/s]"
     ]
    },
    {
     "name": "stdout",
     "output_type": "stream",
     "text": [
      "ID 253 из 275\n"
     ]
    },
    {
     "name": "stderr",
     "output_type": "stream",
     "text": [
      "100%|██████████| 100/100 [00:01<00:00, 90.58it/s]\n",
      "  5%|▌         | 10/186 [00:00<00:01, 93.78it/s]"
     ]
    },
    {
     "name": "stdout",
     "output_type": "stream",
     "text": [
      "ID 254 из 275\n"
     ]
    },
    {
     "name": "stderr",
     "output_type": "stream",
     "text": [
      "100%|██████████| 186/186 [00:01<00:00, 94.81it/s]\n",
      " 13%|█▎        | 19/141 [00:00<00:01, 86.60it/s]"
     ]
    },
    {
     "name": "stdout",
     "output_type": "stream",
     "text": [
      "ID 257 из 275\n"
     ]
    },
    {
     "name": "stderr",
     "output_type": "stream",
     "text": [
      "100%|██████████| 141/141 [00:01<00:00, 92.31it/s]\n",
      "  9%|▉         | 19/211 [00:00<00:02, 89.40it/s]"
     ]
    },
    {
     "name": "stdout",
     "output_type": "stream",
     "text": [
      "ID 258 из 275\n"
     ]
    },
    {
     "name": "stderr",
     "output_type": "stream",
     "text": [
      "100%|██████████| 211/211 [00:02<00:00, 94.17it/s]\n",
      " 16%|█▌        | 10/64 [00:00<00:00, 94.50it/s]"
     ]
    },
    {
     "name": "stdout",
     "output_type": "stream",
     "text": [
      "ID 259 из 275\n"
     ]
    },
    {
     "name": "stderr",
     "output_type": "stream",
     "text": [
      "100%|██████████| 64/64 [00:00<00:00, 93.07it/s]\n",
      " 17%|█▋        | 20/121 [00:00<00:01, 93.47it/s]"
     ]
    },
    {
     "name": "stdout",
     "output_type": "stream",
     "text": [
      "ID 260 из 275\n"
     ]
    },
    {
     "name": "stderr",
     "output_type": "stream",
     "text": [
      "100%|██████████| 121/121 [00:01<00:00, 90.67it/s]\n",
      " 38%|███▊      | 18/47 [00:00<00:00, 87.13it/s]"
     ]
    },
    {
     "name": "stdout",
     "output_type": "stream",
     "text": [
      "ID 261 из 275\n"
     ]
    },
    {
     "name": "stderr",
     "output_type": "stream",
     "text": [
      "100%|██████████| 47/47 [00:00<00:00, 88.21it/s]\n",
      "  7%|▋         | 10/134 [00:00<00:01, 92.32it/s]"
     ]
    },
    {
     "name": "stdout",
     "output_type": "stream",
     "text": [
      "ID 262 из 275\n"
     ]
    },
    {
     "name": "stderr",
     "output_type": "stream",
     "text": [
      "100%|██████████| 134/134 [00:01<00:00, 88.98it/s]\n",
      "  7%|▋         | 10/146 [00:00<00:01, 93.91it/s]"
     ]
    },
    {
     "name": "stdout",
     "output_type": "stream",
     "text": [
      "ID 263 из 275\n"
     ]
    },
    {
     "name": "stderr",
     "output_type": "stream",
     "text": [
      "100%|██████████| 146/146 [00:01<00:00, 93.82it/s]\n",
      " 23%|██▎       | 20/87 [00:00<00:00, 98.17it/s]"
     ]
    },
    {
     "name": "stdout",
     "output_type": "stream",
     "text": [
      "ID 264 из 275\n"
     ]
    },
    {
     "name": "stderr",
     "output_type": "stream",
     "text": [
      "100%|██████████| 87/87 [00:00<00:00, 94.57it/s]\n",
      " 22%|██▏       | 20/92 [00:00<00:00, 93.04it/s]"
     ]
    },
    {
     "name": "stdout",
     "output_type": "stream",
     "text": [
      "ID 265 из 275\n"
     ]
    },
    {
     "name": "stderr",
     "output_type": "stream",
     "text": [
      "100%|██████████| 92/92 [00:00<00:00, 93.12it/s]\n",
      " 16%|█▌        | 20/127 [00:00<00:01, 94.35it/s]"
     ]
    },
    {
     "name": "stdout",
     "output_type": "stream",
     "text": [
      "ID 266 из 275\n"
     ]
    },
    {
     "name": "stderr",
     "output_type": "stream",
     "text": [
      "100%|██████████| 127/127 [00:01<00:00, 92.83it/s]\n",
      " 19%|█▊        | 18/97 [00:00<00:00, 87.56it/s]"
     ]
    },
    {
     "name": "stdout",
     "output_type": "stream",
     "text": [
      "ID 268 из 275\n"
     ]
    },
    {
     "name": "stderr",
     "output_type": "stream",
     "text": [
      "100%|██████████| 97/97 [00:01<00:00, 92.10it/s]\n",
      " 13%|█▎        | 20/156 [00:00<00:01, 90.88it/s]"
     ]
    },
    {
     "name": "stdout",
     "output_type": "stream",
     "text": [
      "ID 270 из 275\n"
     ]
    },
    {
     "name": "stderr",
     "output_type": "stream",
     "text": [
      "100%|██████████| 156/156 [00:01<00:00, 93.27it/s]\n",
      "  8%|▊         | 10/131 [00:00<00:01, 91.65it/s]"
     ]
    },
    {
     "name": "stdout",
     "output_type": "stream",
     "text": [
      "ID 271 из 275\n"
     ]
    },
    {
     "name": "stderr",
     "output_type": "stream",
     "text": [
      "100%|██████████| 131/131 [00:01<00:00, 91.94it/s]\n",
      " 10%|▉         | 10/103 [00:00<00:01, 90.96it/s]"
     ]
    },
    {
     "name": "stdout",
     "output_type": "stream",
     "text": [
      "ID 272 из 275\n"
     ]
    },
    {
     "name": "stderr",
     "output_type": "stream",
     "text": [
      "100%|██████████| 103/103 [00:01<00:00, 91.15it/s]\n",
      " 11%|█         | 10/94 [00:00<00:00, 97.28it/s]"
     ]
    },
    {
     "name": "stdout",
     "output_type": "stream",
     "text": [
      "ID 273 из 275\n"
     ]
    },
    {
     "name": "stderr",
     "output_type": "stream",
     "text": [
      "100%|██████████| 94/94 [00:01<00:00, 93.41it/s]\n",
      " 11%|█         | 20/190 [00:00<00:01, 95.48it/s]"
     ]
    },
    {
     "name": "stdout",
     "output_type": "stream",
     "text": [
      "ID 275 из 275\n"
     ]
    },
    {
     "name": "stderr",
     "output_type": "stream",
     "text": [
      "100%|██████████| 190/190 [00:02<00:00, 94.77it/s]\n"
     ]
    },
    {
     "data": {
      "text/plain": "     tension_index_int mode_int  std_int mean_int  var_int pnn50_int  \\\n0              71.0429      782  72.5216    858.4  8.44846   33.3333   \n1              71.0732  781.667  70.1554      862  8.13868   33.3333   \n2               112.38    794.5  68.6841    863.2  7.95692   44.4444   \n3              69.8858  777.667  70.6843    861.6  8.20384   55.5556   \n4              53.5886  833.067  80.4885    853.2  9.43372   77.7778   \n...                ...      ...      ...      ...      ...       ...   \n3646            36.366      616  292.175    554.4  52.7011   88.8889   \n3647           29.1767  614.229   304.26    520.4  58.4665       100   \n3648           21.9967   611.04  306.662    494.4  62.0271   88.8889   \n3649           21.9967   611.04  306.662    494.4  62.0271       100   \n3650           22.6163    594.3  302.799    510.8  59.2794   88.8889   \n\n     RMSSD_int      ivr_int      vpr_int     papr_int  ... y0 y1 y2 y3 y4 y5  \\\n0      79.1398   0.00111111  7.10429e-06  0.000255754  ...  0  0  0  0  0  0   \n1      75.0822   0.00111111  7.10732e-06  0.000255864  ...  0  0  0  0  0  0   \n2      85.9457   0.00178571  7.49198e-06  0.000377596  ...  0  0  0  0  0  0   \n3      88.1514   0.00108696  6.98858e-06   0.00025718  ...  0  0  0  0  0  0   \n4      94.6854  0.000892857  5.35886e-06  0.000240077  ...  0  0  0  0  0  0   \n...        ...          ...          ...          ...  ... .. .. .. .. .. ..   \n3646   428.652  0.000448029  1.45464e-06  0.000811688  ...  1  0  0  0  0  0   \n3647   506.835  0.000358423  1.45883e-06  0.000651223  ...  0  0  0  0  0  0   \n3648   392.247  0.000268817  1.46645e-06  0.000490966  ...  0  0  0  0  0  0   \n3649   507.061  0.000268817  1.46645e-06  0.000490966  ...  0  0  0  0  0  0   \n3650   400.806  0.000268817  1.50775e-06  0.000504796  ...  0  0  0  0  0  0   \n\n     y6 y7 y8 y9  \n0     0  0  0  0  \n1     0  0  0  0  \n2     0  0  0  0  \n3     0  0  0  0  \n4     0  0  0  0  \n...  .. .. .. ..  \n3646  0  0  0  0  \n3647  0  0  0  0  \n3648  0  0  0  0  \n3649  0  0  0  0  \n3650  0  0  0  0  \n\n[3651 rows x 40 columns]",
      "text/html": "<div>\n<style scoped>\n    .dataframe tbody tr th:only-of-type {\n        vertical-align: middle;\n    }\n\n    .dataframe tbody tr th {\n        vertical-align: top;\n    }\n\n    .dataframe thead th {\n        text-align: right;\n    }\n</style>\n<table border=\"1\" class=\"dataframe\">\n  <thead>\n    <tr style=\"text-align: right;\">\n      <th></th>\n      <th>tension_index_int</th>\n      <th>mode_int</th>\n      <th>std_int</th>\n      <th>mean_int</th>\n      <th>var_int</th>\n      <th>pnn50_int</th>\n      <th>RMSSD_int</th>\n      <th>ivr_int</th>\n      <th>vpr_int</th>\n      <th>papr_int</th>\n      <th>...</th>\n      <th>y0</th>\n      <th>y1</th>\n      <th>y2</th>\n      <th>y3</th>\n      <th>y4</th>\n      <th>y5</th>\n      <th>y6</th>\n      <th>y7</th>\n      <th>y8</th>\n      <th>y9</th>\n    </tr>\n  </thead>\n  <tbody>\n    <tr>\n      <th>0</th>\n      <td>71.0429</td>\n      <td>782</td>\n      <td>72.5216</td>\n      <td>858.4</td>\n      <td>8.44846</td>\n      <td>33.3333</td>\n      <td>79.1398</td>\n      <td>0.00111111</td>\n      <td>7.10429e-06</td>\n      <td>0.000255754</td>\n      <td>...</td>\n      <td>0</td>\n      <td>0</td>\n      <td>0</td>\n      <td>0</td>\n      <td>0</td>\n      <td>0</td>\n      <td>0</td>\n      <td>0</td>\n      <td>0</td>\n      <td>0</td>\n    </tr>\n    <tr>\n      <th>1</th>\n      <td>71.0732</td>\n      <td>781.667</td>\n      <td>70.1554</td>\n      <td>862</td>\n      <td>8.13868</td>\n      <td>33.3333</td>\n      <td>75.0822</td>\n      <td>0.00111111</td>\n      <td>7.10732e-06</td>\n      <td>0.000255864</td>\n      <td>...</td>\n      <td>0</td>\n      <td>0</td>\n      <td>0</td>\n      <td>0</td>\n      <td>0</td>\n      <td>0</td>\n      <td>0</td>\n      <td>0</td>\n      <td>0</td>\n      <td>0</td>\n    </tr>\n    <tr>\n      <th>2</th>\n      <td>112.38</td>\n      <td>794.5</td>\n      <td>68.6841</td>\n      <td>863.2</td>\n      <td>7.95692</td>\n      <td>44.4444</td>\n      <td>85.9457</td>\n      <td>0.00178571</td>\n      <td>7.49198e-06</td>\n      <td>0.000377596</td>\n      <td>...</td>\n      <td>0</td>\n      <td>0</td>\n      <td>0</td>\n      <td>0</td>\n      <td>0</td>\n      <td>0</td>\n      <td>0</td>\n      <td>0</td>\n      <td>0</td>\n      <td>0</td>\n    </tr>\n    <tr>\n      <th>3</th>\n      <td>69.8858</td>\n      <td>777.667</td>\n      <td>70.6843</td>\n      <td>861.6</td>\n      <td>8.20384</td>\n      <td>55.5556</td>\n      <td>88.1514</td>\n      <td>0.00108696</td>\n      <td>6.98858e-06</td>\n      <td>0.00025718</td>\n      <td>...</td>\n      <td>0</td>\n      <td>0</td>\n      <td>0</td>\n      <td>0</td>\n      <td>0</td>\n      <td>0</td>\n      <td>0</td>\n      <td>0</td>\n      <td>0</td>\n      <td>0</td>\n    </tr>\n    <tr>\n      <th>4</th>\n      <td>53.5886</td>\n      <td>833.067</td>\n      <td>80.4885</td>\n      <td>853.2</td>\n      <td>9.43372</td>\n      <td>77.7778</td>\n      <td>94.6854</td>\n      <td>0.000892857</td>\n      <td>5.35886e-06</td>\n      <td>0.000240077</td>\n      <td>...</td>\n      <td>0</td>\n      <td>0</td>\n      <td>0</td>\n      <td>0</td>\n      <td>0</td>\n      <td>0</td>\n      <td>0</td>\n      <td>0</td>\n      <td>0</td>\n      <td>0</td>\n    </tr>\n    <tr>\n      <th>...</th>\n      <td>...</td>\n      <td>...</td>\n      <td>...</td>\n      <td>...</td>\n      <td>...</td>\n      <td>...</td>\n      <td>...</td>\n      <td>...</td>\n      <td>...</td>\n      <td>...</td>\n      <td>...</td>\n      <td>...</td>\n      <td>...</td>\n      <td>...</td>\n      <td>...</td>\n      <td>...</td>\n      <td>...</td>\n      <td>...</td>\n      <td>...</td>\n      <td>...</td>\n      <td>...</td>\n    </tr>\n    <tr>\n      <th>3646</th>\n      <td>36.366</td>\n      <td>616</td>\n      <td>292.175</td>\n      <td>554.4</td>\n      <td>52.7011</td>\n      <td>88.8889</td>\n      <td>428.652</td>\n      <td>0.000448029</td>\n      <td>1.45464e-06</td>\n      <td>0.000811688</td>\n      <td>...</td>\n      <td>1</td>\n      <td>0</td>\n      <td>0</td>\n      <td>0</td>\n      <td>0</td>\n      <td>0</td>\n      <td>0</td>\n      <td>0</td>\n      <td>0</td>\n      <td>0</td>\n    </tr>\n    <tr>\n      <th>3647</th>\n      <td>29.1767</td>\n      <td>614.229</td>\n      <td>304.26</td>\n      <td>520.4</td>\n      <td>58.4665</td>\n      <td>100</td>\n      <td>506.835</td>\n      <td>0.000358423</td>\n      <td>1.45883e-06</td>\n      <td>0.000651223</td>\n      <td>...</td>\n      <td>0</td>\n      <td>0</td>\n      <td>0</td>\n      <td>0</td>\n      <td>0</td>\n      <td>0</td>\n      <td>0</td>\n      <td>0</td>\n      <td>0</td>\n      <td>0</td>\n    </tr>\n    <tr>\n      <th>3648</th>\n      <td>21.9967</td>\n      <td>611.04</td>\n      <td>306.662</td>\n      <td>494.4</td>\n      <td>62.0271</td>\n      <td>88.8889</td>\n      <td>392.247</td>\n      <td>0.000268817</td>\n      <td>1.46645e-06</td>\n      <td>0.000490966</td>\n      <td>...</td>\n      <td>0</td>\n      <td>0</td>\n      <td>0</td>\n      <td>0</td>\n      <td>0</td>\n      <td>0</td>\n      <td>0</td>\n      <td>0</td>\n      <td>0</td>\n      <td>0</td>\n    </tr>\n    <tr>\n      <th>3649</th>\n      <td>21.9967</td>\n      <td>611.04</td>\n      <td>306.662</td>\n      <td>494.4</td>\n      <td>62.0271</td>\n      <td>100</td>\n      <td>507.061</td>\n      <td>0.000268817</td>\n      <td>1.46645e-06</td>\n      <td>0.000490966</td>\n      <td>...</td>\n      <td>0</td>\n      <td>0</td>\n      <td>0</td>\n      <td>0</td>\n      <td>0</td>\n      <td>0</td>\n      <td>0</td>\n      <td>0</td>\n      <td>0</td>\n      <td>0</td>\n    </tr>\n    <tr>\n      <th>3650</th>\n      <td>22.6163</td>\n      <td>594.3</td>\n      <td>302.799</td>\n      <td>510.8</td>\n      <td>59.2794</td>\n      <td>88.8889</td>\n      <td>400.806</td>\n      <td>0.000268817</td>\n      <td>1.50775e-06</td>\n      <td>0.000504796</td>\n      <td>...</td>\n      <td>0</td>\n      <td>0</td>\n      <td>0</td>\n      <td>0</td>\n      <td>0</td>\n      <td>0</td>\n      <td>0</td>\n      <td>0</td>\n      <td>0</td>\n      <td>0</td>\n    </tr>\n  </tbody>\n</table>\n<p>3651 rows × 40 columns</p>\n</div>"
     },
     "execution_count": 20,
     "metadata": {},
     "output_type": "execute_result"
    }
   ],
   "source": [
    "from tqdm import tqdm\n",
    "\n",
    "max_id = train.id.unique().max()\n",
    "for id_user in train.id.unique():\n",
    "    print(f'ID {id_user} из {max_id}')\n",
    "    stats_for_id = StatFeatures(train.loc[train.id == id_user, 'x'], count_intervals=PREDICT_PART).get_statistic()\n",
    "    for i in tqdm(range(train.loc[train.id == id_user].shape[0] - PREDICT_PART)):\n",
    "        if train.iloc[i: i + PREDICT_PART, 2].max() == train.iloc[i: i + PREDICT_PART, 2].min():\n",
    "            continue\n",
    "        stats_for_interval = StatFeatures(train.iloc[i: i + PREDICT_PART, 2], count_intervals=PREDICT_PART).get_statistic()\n",
    "        df_train_stats.loc[i, :] = stats_for_interval + stats_for_id + list(train.iloc[i: i + PREDICT_PART, 2].values) + list(\n",
    "            train.iloc[i: i + PREDICT_PART, 3].values)\n",
    "\n",
    "df_train_stats"
   ],
   "metadata": {
    "collapsed": false,
    "pycharm": {
     "name": "#%%\n"
    }
   }
  },
  {
   "cell_type": "code",
   "execution_count": 21,
   "outputs": [
    {
     "name": "stderr",
     "output_type": "stream",
     "text": [
      "  3%|▎         | 8/310 [00:00<00:04, 75.12it/s]"
     ]
    },
    {
     "name": "stdout",
     "output_type": "stream",
     "text": [
      "ID 14 из 252\n"
     ]
    },
    {
     "name": "stderr",
     "output_type": "stream",
     "text": [
      "100%|██████████| 310/310 [00:03<00:00, 84.47it/s]\n",
      "  5%|▍         | 20/419 [00:00<00:04, 95.89it/s]"
     ]
    },
    {
     "name": "stdout",
     "output_type": "stream",
     "text": [
      "ID 19 из 252\n"
     ]
    },
    {
     "name": "stderr",
     "output_type": "stream",
     "text": [
      "100%|██████████| 419/419 [00:04<00:00, 92.00it/s]\n",
      "  1%|          | 10/947 [00:00<00:09, 95.99it/s]"
     ]
    },
    {
     "name": "stdout",
     "output_type": "stream",
     "text": [
      "ID 20 из 252\n"
     ]
    },
    {
     "name": "stderr",
     "output_type": "stream",
     "text": [
      "100%|██████████| 947/947 [00:10<00:00, 87.67it/s]\n",
      "  3%|▎         | 10/327 [00:00<00:03, 94.79it/s]"
     ]
    },
    {
     "name": "stdout",
     "output_type": "stream",
     "text": [
      "ID 25 из 252\n"
     ]
    },
    {
     "name": "stderr",
     "output_type": "stream",
     "text": [
      "100%|██████████| 327/327 [00:03<00:00, 92.75it/s]\n",
      "  9%|▉         | 9/100 [00:00<00:01, 89.02it/s]"
     ]
    },
    {
     "name": "stdout",
     "output_type": "stream",
     "text": [
      "ID 32 из 252\n"
     ]
    },
    {
     "name": "stderr",
     "output_type": "stream",
     "text": [
      "100%|██████████| 100/100 [00:01<00:00, 90.82it/s]\n",
      "  7%|▋         | 10/141 [00:00<00:01, 95.84it/s]"
     ]
    },
    {
     "name": "stdout",
     "output_type": "stream",
     "text": [
      "ID 36 из 252\n"
     ]
    },
    {
     "name": "stderr",
     "output_type": "stream",
     "text": [
      "100%|██████████| 141/141 [00:01<00:00, 94.15it/s]\n",
      "  7%|▋         | 10/144 [00:00<00:01, 92.94it/s]"
     ]
    },
    {
     "name": "stdout",
     "output_type": "stream",
     "text": [
      "ID 41 из 252\n"
     ]
    },
    {
     "name": "stderr",
     "output_type": "stream",
     "text": [
      "100%|██████████| 144/144 [00:01<00:00, 92.49it/s]\n",
      " 16%|█▌        | 20/125 [00:00<00:01, 97.74it/s]"
     ]
    },
    {
     "name": "stdout",
     "output_type": "stream",
     "text": [
      "ID 44 из 252\n"
     ]
    },
    {
     "name": "stderr",
     "output_type": "stream",
     "text": [
      "100%|██████████| 125/125 [00:01<00:00, 95.02it/s]\n",
      " 12%|█▏        | 10/85 [00:00<00:00, 96.87it/s]"
     ]
    },
    {
     "name": "stdout",
     "output_type": "stream",
     "text": [
      "ID 52 из 252\n"
     ]
    },
    {
     "name": "stderr",
     "output_type": "stream",
     "text": [
      "100%|██████████| 85/85 [00:00<00:00, 93.39it/s]\n",
      " 14%|█▍        | 19/135 [00:00<00:01, 89.92it/s]"
     ]
    },
    {
     "name": "stdout",
     "output_type": "stream",
     "text": [
      "ID 54 из 252\n"
     ]
    },
    {
     "name": "stderr",
     "output_type": "stream",
     "text": [
      "100%|██████████| 135/135 [00:01<00:00, 93.50it/s]\n",
      "  8%|▊         | 10/118 [00:00<00:01, 94.06it/s]"
     ]
    },
    {
     "name": "stdout",
     "output_type": "stream",
     "text": [
      "ID 75 из 252\n"
     ]
    },
    {
     "name": "stderr",
     "output_type": "stream",
     "text": [
      "100%|██████████| 118/118 [00:01<00:00, 93.73it/s]\n",
      "  8%|▊         | 10/125 [00:00<00:01, 92.41it/s]"
     ]
    },
    {
     "name": "stdout",
     "output_type": "stream",
     "text": [
      "ID 82 из 252\n"
     ]
    },
    {
     "name": "stderr",
     "output_type": "stream",
     "text": [
      "100%|██████████| 125/125 [00:01<00:00, 87.92it/s]\n",
      "  3%|▎         | 10/321 [00:00<00:03, 95.43it/s]"
     ]
    },
    {
     "name": "stdout",
     "output_type": "stream",
     "text": [
      "ID 120 из 252\n"
     ]
    },
    {
     "name": "stderr",
     "output_type": "stream",
     "text": [
      "100%|██████████| 321/321 [00:03<00:00, 91.36it/s]\n",
      " 14%|█▍        | 10/71 [00:00<00:00, 92.44it/s]"
     ]
    },
    {
     "name": "stdout",
     "output_type": "stream",
     "text": [
      "ID 125 из 252\n"
     ]
    },
    {
     "name": "stderr",
     "output_type": "stream",
     "text": [
      "100%|██████████| 71/71 [00:00<00:00, 92.82it/s]\n",
      "  1%|          | 19/1622 [00:00<00:17, 93.56it/s]"
     ]
    },
    {
     "name": "stdout",
     "output_type": "stream",
     "text": [
      "ID 127 из 252\n"
     ]
    },
    {
     "name": "stderr",
     "output_type": "stream",
     "text": [
      "100%|██████████| 1622/1622 [00:18<00:00, 88.34it/s]\n",
      " 16%|█▌        | 10/64 [00:00<00:00, 92.76it/s]"
     ]
    },
    {
     "name": "stdout",
     "output_type": "stream",
     "text": [
      "ID 145 из 252\n"
     ]
    },
    {
     "name": "stderr",
     "output_type": "stream",
     "text": [
      "100%|██████████| 64/64 [00:00<00:00, 92.91it/s]\n",
      " 21%|██        | 20/97 [00:00<00:00, 94.41it/s]"
     ]
    },
    {
     "name": "stdout",
     "output_type": "stream",
     "text": [
      "ID 189 из 252\n"
     ]
    },
    {
     "name": "stderr",
     "output_type": "stream",
     "text": [
      "100%|██████████| 97/97 [00:01<00:00, 92.83it/s]\n",
      "  1%|          | 10/824 [00:00<00:08, 93.70it/s]"
     ]
    },
    {
     "name": "stdout",
     "output_type": "stream",
     "text": [
      "ID 218 из 252\n"
     ]
    },
    {
     "name": "stderr",
     "output_type": "stream",
     "text": [
      "100%|██████████| 824/824 [00:08<00:00, 91.74it/s]\n",
      " 25%|██▍       | 20/81 [00:00<00:00, 93.67it/s]"
     ]
    },
    {
     "name": "stdout",
     "output_type": "stream",
     "text": [
      "ID 221 из 252\n"
     ]
    },
    {
     "name": "stderr",
     "output_type": "stream",
     "text": [
      "100%|██████████| 81/81 [00:00<00:00, 93.88it/s]\n",
      "  2%|▏         | 10/403 [00:00<00:04, 95.31it/s]"
     ]
    },
    {
     "name": "stdout",
     "output_type": "stream",
     "text": [
      "ID 240 из 252\n"
     ]
    },
    {
     "name": "stderr",
     "output_type": "stream",
     "text": [
      "100%|██████████| 403/403 [00:04<00:00, 93.80it/s]\n",
      " 14%|█▎        | 20/146 [00:00<00:01, 92.76it/s]"
     ]
    },
    {
     "name": "stdout",
     "output_type": "stream",
     "text": [
      "ID 251 из 252\n"
     ]
    },
    {
     "name": "stderr",
     "output_type": "stream",
     "text": [
      "100%|██████████| 146/146 [00:01<00:00, 91.25it/s]\n",
      " 17%|█▋        | 10/60 [00:00<00:00, 92.14it/s]"
     ]
    },
    {
     "name": "stdout",
     "output_type": "stream",
     "text": [
      "ID 252 из 252\n"
     ]
    },
    {
     "name": "stderr",
     "output_type": "stream",
     "text": [
      "100%|██████████| 60/60 [00:00<00:00, 91.81it/s]\n"
     ]
    }
   ],
   "source": [
    "max_id = test.id.unique().max()\n",
    "for id_user in test.id.unique():\n",
    "    print(f'ID {id_user} из {max_id}')\n",
    "    stats_for_id = StatFeatures(test.loc[test.id == id_user, 'x'], count_intervals=PREDICT_PART).get_statistic()\n",
    "    for i in tqdm(range(test.loc[test.id == id_user].shape[0] - PREDICT_PART)):\n",
    "        if test.iloc[i: i + PREDICT_PART, 2].max() == test.iloc[i: i + PREDICT_PART, 2].min():\n",
    "            continue\n",
    "        stats_for_interval = StatFeatures(test.iloc[i: i + PREDICT_PART, 2], count_intervals=PREDICT_PART).get_statistic()\n",
    "        df_test_stats.loc[i, :] = stats_for_interval + stats_for_id + list(test.iloc[i: i + PREDICT_PART, 2].values) + list(\n",
    "            test.iloc[i: i + PREDICT_PART, 3].values)\n"
   ],
   "metadata": {
    "collapsed": false,
    "pycharm": {
     "name": "#%%\n"
    }
   }
  },
  {
   "cell_type": "code",
   "execution_count": 22,
   "outputs": [
    {
     "data": {
      "text/plain": "     tension_index_int mode_int  std_int mean_int   var_int pnn50_int  \\\n349            1736.11      720  4.69515    718.4  0.653557         0   \n350            1748.41  714.933  4.29987    717.6  0.599202         0   \n351            1748.41  714.933  4.71405      718  0.656552         0   \n352            1163.76  716.073  6.26808    718.8  0.872021         0   \n353            549.186  718.767   21.586    725.2   2.97656   22.2222   \n...                ...      ...      ...      ...       ...       ...   \n3642           43.3698   623.85  247.463    613.6   40.3297   66.6667   \n3643           43.2043    622.2  292.739    565.2   51.7939   77.7778   \n3644            36.366      616  291.351    549.2   53.0501   77.7778   \n3645            36.366      616   292.09      554   52.7238   77.7778   \n3646            36.366      616  292.175    554.4   52.7011   88.8889   \n\n     RMSSD_int      ivr_int      vpr_int     papr_int  ... y0 y1 y2 y3 y4 y5  \\\n349    6.79869        0.025  8.68056e-05  0.000555556  ...  0  0  0  0  1  1   \n350     6.1101        0.025  8.74207e-05  0.000559493  ...  0  0  0  1  1  1   \n351     7.7746        0.025  8.74207e-05  0.000559493  ...  0  0  1  1  1  1   \n352    10.4137    0.0166667  5.81878e-05  0.000558602  ...  0  1  1  1  1  1   \n353     31.496   0.00789474  1.83062e-05  0.000834763  ...  1  1  1  1  1  1   \n...        ...          ...          ...          ...  ... .. .. .. .. .. ..   \n3642   389.879  0.000541126  1.73479e-06  0.000801475  ...  1  1  1  1  1  0   \n3643   421.091  0.000537634  1.44014e-06   0.00096432  ...  1  1  1  1  0  0   \n3644   395.634  0.000448029  1.45464e-06  0.000811688  ...  1  1  1  0  0  0   \n3645   427.027  0.000448029  1.45464e-06  0.000811688  ...  1  1  0  0  0  0   \n3646   428.652  0.000448029  1.45464e-06  0.000811688  ...  1  0  0  0  0  0   \n\n     y6 y7 y8 y9  \n349   1  1  1  1  \n350   1  1  1  1  \n351   1  1  1  1  \n352   1  1  1  1  \n353   1  1  1  1  \n...  .. .. .. ..  \n3642  0  0  0  0  \n3643  0  0  0  0  \n3644  0  0  0  0  \n3645  0  0  0  0  \n3646  0  0  0  0  \n\n[587 rows x 40 columns]",
      "text/html": "<div>\n<style scoped>\n    .dataframe tbody tr th:only-of-type {\n        vertical-align: middle;\n    }\n\n    .dataframe tbody tr th {\n        vertical-align: top;\n    }\n\n    .dataframe thead th {\n        text-align: right;\n    }\n</style>\n<table border=\"1\" class=\"dataframe\">\n  <thead>\n    <tr style=\"text-align: right;\">\n      <th></th>\n      <th>tension_index_int</th>\n      <th>mode_int</th>\n      <th>std_int</th>\n      <th>mean_int</th>\n      <th>var_int</th>\n      <th>pnn50_int</th>\n      <th>RMSSD_int</th>\n      <th>ivr_int</th>\n      <th>vpr_int</th>\n      <th>papr_int</th>\n      <th>...</th>\n      <th>y0</th>\n      <th>y1</th>\n      <th>y2</th>\n      <th>y3</th>\n      <th>y4</th>\n      <th>y5</th>\n      <th>y6</th>\n      <th>y7</th>\n      <th>y8</th>\n      <th>y9</th>\n    </tr>\n  </thead>\n  <tbody>\n    <tr>\n      <th>349</th>\n      <td>1736.11</td>\n      <td>720</td>\n      <td>4.69515</td>\n      <td>718.4</td>\n      <td>0.653557</td>\n      <td>0</td>\n      <td>6.79869</td>\n      <td>0.025</td>\n      <td>8.68056e-05</td>\n      <td>0.000555556</td>\n      <td>...</td>\n      <td>0</td>\n      <td>0</td>\n      <td>0</td>\n      <td>0</td>\n      <td>1</td>\n      <td>1</td>\n      <td>1</td>\n      <td>1</td>\n      <td>1</td>\n      <td>1</td>\n    </tr>\n    <tr>\n      <th>350</th>\n      <td>1748.41</td>\n      <td>714.933</td>\n      <td>4.29987</td>\n      <td>717.6</td>\n      <td>0.599202</td>\n      <td>0</td>\n      <td>6.1101</td>\n      <td>0.025</td>\n      <td>8.74207e-05</td>\n      <td>0.000559493</td>\n      <td>...</td>\n      <td>0</td>\n      <td>0</td>\n      <td>0</td>\n      <td>1</td>\n      <td>1</td>\n      <td>1</td>\n      <td>1</td>\n      <td>1</td>\n      <td>1</td>\n      <td>1</td>\n    </tr>\n    <tr>\n      <th>351</th>\n      <td>1748.41</td>\n      <td>714.933</td>\n      <td>4.71405</td>\n      <td>718</td>\n      <td>0.656552</td>\n      <td>0</td>\n      <td>7.7746</td>\n      <td>0.025</td>\n      <td>8.74207e-05</td>\n      <td>0.000559493</td>\n      <td>...</td>\n      <td>0</td>\n      <td>0</td>\n      <td>1</td>\n      <td>1</td>\n      <td>1</td>\n      <td>1</td>\n      <td>1</td>\n      <td>1</td>\n      <td>1</td>\n      <td>1</td>\n    </tr>\n    <tr>\n      <th>352</th>\n      <td>1163.76</td>\n      <td>716.073</td>\n      <td>6.26808</td>\n      <td>718.8</td>\n      <td>0.872021</td>\n      <td>0</td>\n      <td>10.4137</td>\n      <td>0.0166667</td>\n      <td>5.81878e-05</td>\n      <td>0.000558602</td>\n      <td>...</td>\n      <td>0</td>\n      <td>1</td>\n      <td>1</td>\n      <td>1</td>\n      <td>1</td>\n      <td>1</td>\n      <td>1</td>\n      <td>1</td>\n      <td>1</td>\n      <td>1</td>\n    </tr>\n    <tr>\n      <th>353</th>\n      <td>549.186</td>\n      <td>718.767</td>\n      <td>21.586</td>\n      <td>725.2</td>\n      <td>2.97656</td>\n      <td>22.2222</td>\n      <td>31.496</td>\n      <td>0.00789474</td>\n      <td>1.83062e-05</td>\n      <td>0.000834763</td>\n      <td>...</td>\n      <td>1</td>\n      <td>1</td>\n      <td>1</td>\n      <td>1</td>\n      <td>1</td>\n      <td>1</td>\n      <td>1</td>\n      <td>1</td>\n      <td>1</td>\n      <td>1</td>\n    </tr>\n    <tr>\n      <th>...</th>\n      <td>...</td>\n      <td>...</td>\n      <td>...</td>\n      <td>...</td>\n      <td>...</td>\n      <td>...</td>\n      <td>...</td>\n      <td>...</td>\n      <td>...</td>\n      <td>...</td>\n      <td>...</td>\n      <td>...</td>\n      <td>...</td>\n      <td>...</td>\n      <td>...</td>\n      <td>...</td>\n      <td>...</td>\n      <td>...</td>\n      <td>...</td>\n      <td>...</td>\n      <td>...</td>\n    </tr>\n    <tr>\n      <th>3642</th>\n      <td>43.3698</td>\n      <td>623.85</td>\n      <td>247.463</td>\n      <td>613.6</td>\n      <td>40.3297</td>\n      <td>66.6667</td>\n      <td>389.879</td>\n      <td>0.000541126</td>\n      <td>1.73479e-06</td>\n      <td>0.000801475</td>\n      <td>...</td>\n      <td>1</td>\n      <td>1</td>\n      <td>1</td>\n      <td>1</td>\n      <td>1</td>\n      <td>0</td>\n      <td>0</td>\n      <td>0</td>\n      <td>0</td>\n      <td>0</td>\n    </tr>\n    <tr>\n      <th>3643</th>\n      <td>43.2043</td>\n      <td>622.2</td>\n      <td>292.739</td>\n      <td>565.2</td>\n      <td>51.7939</td>\n      <td>77.7778</td>\n      <td>421.091</td>\n      <td>0.000537634</td>\n      <td>1.44014e-06</td>\n      <td>0.00096432</td>\n      <td>...</td>\n      <td>1</td>\n      <td>1</td>\n      <td>1</td>\n      <td>1</td>\n      <td>0</td>\n      <td>0</td>\n      <td>0</td>\n      <td>0</td>\n      <td>0</td>\n      <td>0</td>\n    </tr>\n    <tr>\n      <th>3644</th>\n      <td>36.366</td>\n      <td>616</td>\n      <td>291.351</td>\n      <td>549.2</td>\n      <td>53.0501</td>\n      <td>77.7778</td>\n      <td>395.634</td>\n      <td>0.000448029</td>\n      <td>1.45464e-06</td>\n      <td>0.000811688</td>\n      <td>...</td>\n      <td>1</td>\n      <td>1</td>\n      <td>1</td>\n      <td>0</td>\n      <td>0</td>\n      <td>0</td>\n      <td>0</td>\n      <td>0</td>\n      <td>0</td>\n      <td>0</td>\n    </tr>\n    <tr>\n      <th>3645</th>\n      <td>36.366</td>\n      <td>616</td>\n      <td>292.09</td>\n      <td>554</td>\n      <td>52.7238</td>\n      <td>77.7778</td>\n      <td>427.027</td>\n      <td>0.000448029</td>\n      <td>1.45464e-06</td>\n      <td>0.000811688</td>\n      <td>...</td>\n      <td>1</td>\n      <td>1</td>\n      <td>0</td>\n      <td>0</td>\n      <td>0</td>\n      <td>0</td>\n      <td>0</td>\n      <td>0</td>\n      <td>0</td>\n      <td>0</td>\n    </tr>\n    <tr>\n      <th>3646</th>\n      <td>36.366</td>\n      <td>616</td>\n      <td>292.175</td>\n      <td>554.4</td>\n      <td>52.7011</td>\n      <td>88.8889</td>\n      <td>428.652</td>\n      <td>0.000448029</td>\n      <td>1.45464e-06</td>\n      <td>0.000811688</td>\n      <td>...</td>\n      <td>1</td>\n      <td>0</td>\n      <td>0</td>\n      <td>0</td>\n      <td>0</td>\n      <td>0</td>\n      <td>0</td>\n      <td>0</td>\n      <td>0</td>\n      <td>0</td>\n    </tr>\n  </tbody>\n</table>\n<p>587 rows × 40 columns</p>\n</div>"
     },
     "execution_count": 22,
     "metadata": {},
     "output_type": "execute_result"
    }
   ],
   "source": [
    "df_train_stats.loc[(df_train_stats.y0 == 1) |\n",
    "                   (df_train_stats.y1 == 1) |\n",
    "                    (df_train_stats.y2 == 1) |\n",
    "                    (df_train_stats.y3 == 1) |\n",
    "                    (df_train_stats.y4 == 1)]\n"
   ],
   "metadata": {
    "collapsed": false,
    "pycharm": {
     "name": "#%%\n"
    }
   }
  },
  {
   "cell_type": "code",
   "execution_count": 23,
   "outputs": [],
   "source": [
    "df_test_stats.to_csv('data/split_data/test_stats.csv')\n",
    "df_train_stats.to_csv('data/split_data/train_stats.csv')"
   ],
   "metadata": {
    "collapsed": false,
    "pycharm": {
     "name": "#%%\n"
    }
   }
  }
 ],
 "metadata": {
  "kernelspec": {
   "display_name": "Python 3",
   "language": "python",
   "name": "python3"
  },
  "language_info": {
   "codemirror_mode": {
    "name": "ipython",
    "version": 2
   },
   "file_extension": ".py",
   "mimetype": "text/x-python",
   "name": "python",
   "nbconvert_exporter": "python",
   "pygments_lexer": "ipython2",
   "version": "2.7.6"
  }
 },
 "nbformat": 4,
 "nbformat_minor": 0
}